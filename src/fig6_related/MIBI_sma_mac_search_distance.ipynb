{
 "cells": [
  {
   "cell_type": "code",
   "execution_count": 7,
   "id": "9873eb2b",
   "metadata": {},
   "outputs": [],
   "source": [
    "from sklearn.neighbors import NearestNeighbors\n",
    "import pandas as pd\n",
    "import numpy as np"
   ]
  },
  {
   "cell_type": "markdown",
   "id": "4d6e1177-fe8b-472e-9de2-79fd49f89b85",
   "metadata": {},
   "source": [
    "This script searches the closest macrophage/monocyte from each smooth muscle cells, based on the mibi image.\n",
    "\n",
    "Once searched nearest cell, subsequent distanced based analysis can be peformed"
   ]
  },
  {
   "cell_type": "code",
   "execution_count": 5,
   "id": "1901a3f9",
   "metadata": {},
   "outputs": [
    {
     "data": {
      "text/plain": [
       "(126426, 32)"
      ]
     },
     "execution_count": 5,
     "metadata": {},
     "output_type": "execute_result"
    }
   ],
   "source": [
    "# read mibi dataframe\n",
    "mibidf = pd.read_csv('../../MIBI_analysis/final_data/host_csv/mibi_cell_resultann_0411.csv')\n",
    "mibidf.shape"
   ]
  },
  {
   "cell_type": "code",
   "execution_count": 23,
   "id": "82db4824",
   "metadata": {},
   "outputs": [
    {
     "data": {
      "text/plain": [
       "2023-03-08T18-48-43-DSST3-Run5_fov-1-scan-1    2204\n",
       "2023-03-07T11-17-56-DSSC2-Run2_fov-2-scan-1    1238\n",
       "2023-03-19T15-20-40-DSSC4-Run2_fov-3-scan-1    1184\n",
       "2023-03-05T15-51-42-DSST2-Run1_fov-5-scan-1    1169\n",
       "2023-03-05T18-22-42-DSST2-Run2_fov-5-scan-1    1150\n",
       "                                               ... \n",
       "2023-03-06T13-40-46-DSST2-Run6_fov-4-scan-1     225\n",
       "2023-03-28T11-45-15-DSSC1-Run4_fov-6-scan-1     198\n",
       "2023-03-08T18-48-43-DSST3-Run5_fov-3-scan-1     197\n",
       "2023-03-05T23-58-06-DSST2-Run4_fov-5-scan-1     181\n",
       "2023-03-05T23-58-06-DSST2-Run4_fov-2-scan-1      94\n",
       "Name: run_fov, Length: 202, dtype: int64"
      ]
     },
     "execution_count": 23,
     "metadata": {},
     "output_type": "execute_result"
    }
   ],
   "source": [
    "mibidf[\"run_fov\"] = mibidf[\"run\"] + '_' + mibidf[\"fov\"]\n",
    "mibidf.run_fov.value_counts()"
   ]
  },
  {
   "cell_type": "markdown",
   "id": "d0d389b5",
   "metadata": {},
   "source": [
    "Now here is just testing:"
   ]
  },
  {
   "cell_type": "code",
   "execution_count": 24,
   "id": "d7632cc9",
   "metadata": {},
   "outputs": [
    {
     "data": {
      "text/plain": [
       "array([[   5.32830189,  393.09433962],\n",
       "       [   6.67024129,  331.72117962],\n",
       "       [   5.91428571,  441.64642857],\n",
       "       ...,\n",
       "       [1018.22916667,  731.07638889],\n",
       "       [1020.58241758,  844.8021978 ],\n",
       "       [1019.34482759,  886.32758621]])"
      ]
     },
     "execution_count": 24,
     "metadata": {},
     "output_type": "execute_result"
    }
   ],
   "source": [
    "temp = mibidf.loc[mibidf.run_fov == '2023-03-08T18-48-43-DSST3-Run5_fov-1-scan-1',:]\n",
    "locations = temp.loc[:,['x', 'y']].to_numpy()\n",
    "locations"
   ]
  },
  {
   "cell_type": "code",
   "execution_count": 25,
   "id": "fc11d1ce",
   "metadata": {},
   "outputs": [],
   "source": [
    "## get knn function:\n",
    "\n",
    "def get_spatial_knn_indices(locations, n_neighbors=15, method='kd_tree'):\n",
    "    \"\"\"\n",
    "    Compute k-nearest neighbors of locations.\n",
    "\n",
    "    Parameters\n",
    "    ----------\n",
    "    locations: np.ndarray of shape (n_samples, 2)\n",
    "        Data matrix\n",
    "    n_neighbors: int\n",
    "        Number of nearest neighbors\n",
    "    method: str, default='kd_tree'\n",
    "        Method to use when computing the nearest neighbors, one of ['ball_tree', 'kd_tree', 'brute']\n",
    "\n",
    "    Returns\n",
    "    -------\n",
    "    knn_indices: np.ndarray of shape (n_samples, n_neighbors)\n",
    "        Each row represents the knn of that sample\n",
    "    \"\"\"\n",
    "    locations = np.array(locations)\n",
    "    assert n_neighbors <= locations.shape[0]\n",
    "    # k-NN indices, may be asymmetric\n",
    "    _, knn_indices = NearestNeighbors(\n",
    "        n_neighbors=n_neighbors, algorithm=method\n",
    "    ).fit(locations).kneighbors(locations)\n",
    "    return knn_indices"
   ]
  },
  {
   "cell_type": "markdown",
   "id": "08a5b79a",
   "metadata": {},
   "source": [
    "Metric 1: search nearest 100 cells, and see how long till you see a macrophage for an sma cell\n",
    "\n",
    "goal is to get per run-fov a medium search value"
   ]
  },
  {
   "cell_type": "code",
   "execution_count": 61,
   "id": "b8c04e6b",
   "metadata": {},
   "outputs": [],
   "source": [
    "dd = {'run_fov':[], 'ksearch_medium':[], 'ksearch_dist_medium':[]}\n",
    "\n",
    "run_fov = np.unique(mibidf.run_fov).tolist()\n",
    "\n",
    "for rf in run_fov:\n",
    "    temp = mibidf.loc[mibidf.run_fov == rf,:]\n",
    "    \n",
    "    ## check if muscle cell amout is enough\n",
    "    sma_num = np.sum(temp.annV1 == 'Smooth muscle')\n",
    "    mac_num = np.sum(temp.annV1 == 'Macrophage') + np.sum(temp.annV1 == 'Monocyte')\n",
    "    if sma_num < 10 or mac_num < 5: # disregard fovs with too few target cell types\n",
    "        continue\n",
    "    if temp.shape[0] < 100: # incase fov does not have much cells\n",
    "        continue\n",
    "    else: # enough muscle cell proceed\n",
    "        locations = temp.loc[:,['x', 'y']].to_numpy()\n",
    "        k100search = get_spatial_knn_indices(locations, n_neighbors=100) # seach nearest 100 cells\n",
    "        \n",
    "        ##### start searching for macrophages for muscle cells\n",
    "        n = temp.shape[0]\n",
    "        ann = temp.annV1.to_list()\n",
    "        knnsearch = []\n",
    "        knndist = []\n",
    "        \n",
    "        for i in range(n):\n",
    "            if ann[i] == 'Smooth muscle':\n",
    "                knnlist = k100search[i]\n",
    "                count = -1\n",
    "                for index in knnlist:\n",
    "                    if ann[index] == 'Macrophage' or ann[index] == 'Monocyte':\n",
    "                        break\n",
    "                    else:\n",
    "                        count = count + 1\n",
    "                knnsearch.append(count)\n",
    "                ## also calculate euclidean distance\n",
    "                tarindx = knnlist[count]\n",
    "                tar_xy = locations[tarindx,:]\n",
    "                orig_xy = locations[i,:]\n",
    "                dist = np.linalg.norm(orig_xy - tar_xy) * (400/1024) # convert to um\n",
    "                knndist.append(dist)\n",
    "                \n",
    "        result = np.median(knnsearch)\n",
    "        result_dist = np.median(knndist)\n",
    "        ###### end, save result\n",
    "        dd['run_fov'].append(rf)\n",
    "        dd['ksearch_medium'].append(result)\n",
    "        dd['ksearch_dist_medium'].append(result_dist)\n",
    "               "
   ]
  },
  {
   "cell_type": "code",
   "execution_count": 62,
   "id": "3d21a601",
   "metadata": {},
   "outputs": [
    {
     "data": {
      "text/html": [
       "<div>\n",
       "<style scoped>\n",
       "    .dataframe tbody tr th:only-of-type {\n",
       "        vertical-align: middle;\n",
       "    }\n",
       "\n",
       "    .dataframe tbody tr th {\n",
       "        vertical-align: top;\n",
       "    }\n",
       "\n",
       "    .dataframe thead th {\n",
       "        text-align: right;\n",
       "    }\n",
       "</style>\n",
       "<table border=\"1\" class=\"dataframe\">\n",
       "  <thead>\n",
       "    <tr style=\"text-align: right;\">\n",
       "      <th></th>\n",
       "      <th>run_fov</th>\n",
       "      <th>ksearch_medium</th>\n",
       "      <th>ksearch_dist_medium</th>\n",
       "    </tr>\n",
       "  </thead>\n",
       "  <tbody>\n",
       "    <tr>\n",
       "      <th>0</th>\n",
       "      <td>2023-03-04T16-22-15-DSSC1-Run1_fov-3-scan-1</td>\n",
       "      <td>11.5</td>\n",
       "      <td>20.944791</td>\n",
       "    </tr>\n",
       "    <tr>\n",
       "      <th>1</th>\n",
       "      <td>2023-03-04T16-22-15-DSSC1-Run1_fov-4-scan-1</td>\n",
       "      <td>20.5</td>\n",
       "      <td>31.201222</td>\n",
       "    </tr>\n",
       "    <tr>\n",
       "      <th>2</th>\n",
       "      <td>2023-03-04T16-22-15-DSSC1-Run1_fov-5-scan-1</td>\n",
       "      <td>8.0</td>\n",
       "      <td>15.914268</td>\n",
       "    </tr>\n",
       "    <tr>\n",
       "      <th>3</th>\n",
       "      <td>2023-03-04T19-46-22-DSSC1-Run2_fov-1-scan-1</td>\n",
       "      <td>26.0</td>\n",
       "      <td>31.472637</td>\n",
       "    </tr>\n",
       "    <tr>\n",
       "      <th>4</th>\n",
       "      <td>2023-03-04T19-46-22-DSSC1-Run2_fov-2-scan-1</td>\n",
       "      <td>32.0</td>\n",
       "      <td>33.831375</td>\n",
       "    </tr>\n",
       "    <tr>\n",
       "      <th>...</th>\n",
       "      <td>...</td>\n",
       "      <td>...</td>\n",
       "      <td>...</td>\n",
       "    </tr>\n",
       "    <tr>\n",
       "      <th>138</th>\n",
       "      <td>2023-03-28T11-45-15-DSSC1-Run4_fov-2-scan-1</td>\n",
       "      <td>32.5</td>\n",
       "      <td>35.317639</td>\n",
       "    </tr>\n",
       "    <tr>\n",
       "      <th>139</th>\n",
       "      <td>2023-03-28T11-45-15-DSSC1-Run4_fov-3-scan-1</td>\n",
       "      <td>47.0</td>\n",
       "      <td>53.464502</td>\n",
       "    </tr>\n",
       "    <tr>\n",
       "      <th>140</th>\n",
       "      <td>2023-03-28T11-45-15-DSSC1-Run4_fov-4-scan-1</td>\n",
       "      <td>28.0</td>\n",
       "      <td>31.207425</td>\n",
       "    </tr>\n",
       "    <tr>\n",
       "      <th>141</th>\n",
       "      <td>2023-03-28T11-45-15-DSSC1-Run4_fov-5-scan-1</td>\n",
       "      <td>21.0</td>\n",
       "      <td>32.609008</td>\n",
       "    </tr>\n",
       "    <tr>\n",
       "      <th>142</th>\n",
       "      <td>2023-03-28T11-45-15-DSSC1-Run4_fov-6-scan-1</td>\n",
       "      <td>30.0</td>\n",
       "      <td>46.783198</td>\n",
       "    </tr>\n",
       "  </tbody>\n",
       "</table>\n",
       "<p>143 rows × 3 columns</p>\n",
       "</div>"
      ],
      "text/plain": [
       "                                         run_fov  ksearch_medium  \\\n",
       "0    2023-03-04T16-22-15-DSSC1-Run1_fov-3-scan-1            11.5   \n",
       "1    2023-03-04T16-22-15-DSSC1-Run1_fov-4-scan-1            20.5   \n",
       "2    2023-03-04T16-22-15-DSSC1-Run1_fov-5-scan-1             8.0   \n",
       "3    2023-03-04T19-46-22-DSSC1-Run2_fov-1-scan-1            26.0   \n",
       "4    2023-03-04T19-46-22-DSSC1-Run2_fov-2-scan-1            32.0   \n",
       "..                                           ...             ...   \n",
       "138  2023-03-28T11-45-15-DSSC1-Run4_fov-2-scan-1            32.5   \n",
       "139  2023-03-28T11-45-15-DSSC1-Run4_fov-3-scan-1            47.0   \n",
       "140  2023-03-28T11-45-15-DSSC1-Run4_fov-4-scan-1            28.0   \n",
       "141  2023-03-28T11-45-15-DSSC1-Run4_fov-5-scan-1            21.0   \n",
       "142  2023-03-28T11-45-15-DSSC1-Run4_fov-6-scan-1            30.0   \n",
       "\n",
       "     ksearch_dist_medium  \n",
       "0              20.944791  \n",
       "1              31.201222  \n",
       "2              15.914268  \n",
       "3              31.472637  \n",
       "4              33.831375  \n",
       "..                   ...  \n",
       "138            35.317639  \n",
       "139            53.464502  \n",
       "140            31.207425  \n",
       "141            32.609008  \n",
       "142            46.783198  \n",
       "\n",
       "[143 rows x 3 columns]"
      ]
     },
     "execution_count": 62,
     "metadata": {},
     "output_type": "execute_result"
    }
   ],
   "source": [
    "ksearch = pd.DataFrame.from_dict(dd)\n",
    "ksearch"
   ]
  },
  {
   "cell_type": "code",
   "execution_count": 63,
   "id": "d1058a4d",
   "metadata": {},
   "outputs": [],
   "source": [
    "ksearch.to_csv('../data/KNN100_searchMhigh.csv', index = False)"
   ]
  },
  {
   "cell_type": "markdown",
   "id": "7730d15d",
   "metadata": {},
   "source": [
    "ok next version"
   ]
  },
  {
   "cell_type": "markdown",
   "id": "ea1998da",
   "metadata": {},
   "source": [
    "## Cnbhd approach and get percentage"
   ]
  },
  {
   "cell_type": "code",
   "execution_count": 64,
   "id": "fa944b4c",
   "metadata": {},
   "outputs": [],
   "source": [
    "def get_neighborhood_composition(knn_indices, labels):\n",
    "    \"\"\"\n",
    "    Compute the composition of neighbors for each sample.\n",
    "    Parameters\n",
    "    ----------\n",
    "    knn_indices: np.ndarray of shape (n_samples, n_neighbors)\n",
    "        Each row represents the knn of that sample\n",
    "    labels: np.ndarray of shape (n_samples, )\n",
    "        Cluster labels\n",
    "\n",
    "    Returns\n",
    "    -------\n",
    "    comp: np.ndarray of shape (n_samples, n_neighbors)\n",
    "        The composition (in proportion) of neighbors for each sample.\n",
    "    \"\"\"\n",
    "    labels = list(labels)\n",
    "    n, k = knn_indices.shape\n",
    "    unique_clusters = np.sort(np.unique(labels))\n",
    "    n_clusters = len(unique_clusters)\n",
    "    label_to_clust_idx = {label: i for i, label in enumerate(unique_clusters)}\n",
    "\n",
    "    comp = np.zeros((n, n_clusters))\n",
    "    for i, neighbors in enumerate(knn_indices):\n",
    "        good_neighbors = [nb for nb in neighbors if nb != -1]\n",
    "        for nb in good_neighbors:\n",
    "            comp[i, label_to_clust_idx[labels[nb]]] += 1\n",
    "\n",
    "    return (comp.T / comp.sum(axis=1)).T"
   ]
  },
  {
   "cell_type": "code",
   "execution_count": 129,
   "id": "7c25563b",
   "metadata": {},
   "outputs": [],
   "source": [
    "dd = {'run_fov':[], 'perc_medium':[], 'perc_mean':[]}\n",
    "\n",
    "run_fov = np.unique(mibidf.run_fov).tolist()\n",
    "\n",
    "for rf in run_fov:\n",
    "    temp = mibidf.loc[mibidf.run_fov == rf,:]\n",
    "    \n",
    "    ## check if muscle cell amout is enough\n",
    "    sma_num = np.sum(temp.annV1 == 'Smooth muscle')\n",
    "    mac_num = np.sum(temp.annV1 == 'Macrophage') + np.sum(temp.annV1 == 'Monocyte')\n",
    "    if sma_num < 10 or mac_num < 5: # disregard fovs with too few target cell types\n",
    "        continue\n",
    "    if temp.shape[0] < 100: # incase fov does not have much cells\n",
    "        continue\n",
    "    else: # enough muscle cell proceed\n",
    "        locations = temp.loc[:,['x', 'y']].to_numpy()\n",
    "        k20search = get_spatial_knn_indices(locations, n_neighbors=20) # seach nearest 100 cells\n",
    "        \n",
    "        ##### start searching for macrophages for muscle cells\n",
    "        n = temp.shape[0]\n",
    "        ann = temp.annV1.to_list()\n",
    "        \n",
    "        # replace counting\n",
    "        ann = list(map(lambda x: x.replace('Macrophage', 'M'), ann))\n",
    "        ann = list(map(lambda x: x.replace('Monocyte', 'M'), ann))\n",
    "        nbhd = get_neighborhood_composition(k20search, ann)\n",
    "        \n",
    "        ####\n",
    "        sma_idx = []\n",
    "        for i, x in enumerate(ann):\n",
    "            if x == 'Smooth muscle':\n",
    "                sma_idx.append(i)\n",
    "        \n",
    "        unique_clusters = np.sort(np.unique(ann))\n",
    "        tid = np.where(unique_clusters == 'M')[0][0]\n",
    "        nbhd_mean = np.mean(nbhd[sma_idx,tid])\n",
    "        nbhd_mediam = np.median(nbhd[sma_idx,tid])\n",
    "        ##\n",
    "        \n",
    "        dd['run_fov'].append(rf)\n",
    "        dd['perc_medium'].append(nbhd_mediam)\n",
    "        dd['perc_mean'].append(nbhd_mean)\n",
    "    #break\n",
    "               "
   ]
  },
  {
   "cell_type": "code",
   "execution_count": 130,
   "id": "5b671bc7",
   "metadata": {},
   "outputs": [
    {
     "data": {
      "text/html": [
       "<div>\n",
       "<style scoped>\n",
       "    .dataframe tbody tr th:only-of-type {\n",
       "        vertical-align: middle;\n",
       "    }\n",
       "\n",
       "    .dataframe tbody tr th {\n",
       "        vertical-align: top;\n",
       "    }\n",
       "\n",
       "    .dataframe thead th {\n",
       "        text-align: right;\n",
       "    }\n",
       "</style>\n",
       "<table border=\"1\" class=\"dataframe\">\n",
       "  <thead>\n",
       "    <tr style=\"text-align: right;\">\n",
       "      <th></th>\n",
       "      <th>run_fov</th>\n",
       "      <th>perc_medium</th>\n",
       "      <th>perc_mean</th>\n",
       "    </tr>\n",
       "  </thead>\n",
       "  <tbody>\n",
       "    <tr>\n",
       "      <th>0</th>\n",
       "      <td>2023-03-04T16-22-15-DSSC1-Run1_fov-3-scan-1</td>\n",
       "      <td>0.05</td>\n",
       "      <td>0.057895</td>\n",
       "    </tr>\n",
       "    <tr>\n",
       "      <th>1</th>\n",
       "      <td>2023-03-04T16-22-15-DSSC1-Run1_fov-4-scan-1</td>\n",
       "      <td>0.00</td>\n",
       "      <td>0.046053</td>\n",
       "    </tr>\n",
       "    <tr>\n",
       "      <th>2</th>\n",
       "      <td>2023-03-04T16-22-15-DSSC1-Run1_fov-5-scan-1</td>\n",
       "      <td>0.10</td>\n",
       "      <td>0.083333</td>\n",
       "    </tr>\n",
       "    <tr>\n",
       "      <th>3</th>\n",
       "      <td>2023-03-04T19-46-22-DSSC1-Run2_fov-1-scan-1</td>\n",
       "      <td>0.00</td>\n",
       "      <td>0.048551</td>\n",
       "    </tr>\n",
       "    <tr>\n",
       "      <th>4</th>\n",
       "      <td>2023-03-04T19-46-22-DSSC1-Run2_fov-2-scan-1</td>\n",
       "      <td>0.00</td>\n",
       "      <td>0.042241</td>\n",
       "    </tr>\n",
       "    <tr>\n",
       "      <th>...</th>\n",
       "      <td>...</td>\n",
       "      <td>...</td>\n",
       "      <td>...</td>\n",
       "    </tr>\n",
       "    <tr>\n",
       "      <th>138</th>\n",
       "      <td>2023-03-28T11-45-15-DSSC1-Run4_fov-2-scan-1</td>\n",
       "      <td>0.00</td>\n",
       "      <td>0.021053</td>\n",
       "    </tr>\n",
       "    <tr>\n",
       "      <th>139</th>\n",
       "      <td>2023-03-28T11-45-15-DSSC1-Run4_fov-3-scan-1</td>\n",
       "      <td>0.00</td>\n",
       "      <td>0.015217</td>\n",
       "    </tr>\n",
       "    <tr>\n",
       "      <th>140</th>\n",
       "      <td>2023-03-28T11-45-15-DSSC1-Run4_fov-4-scan-1</td>\n",
       "      <td>0.00</td>\n",
       "      <td>0.031818</td>\n",
       "    </tr>\n",
       "    <tr>\n",
       "      <th>141</th>\n",
       "      <td>2023-03-28T11-45-15-DSSC1-Run4_fov-5-scan-1</td>\n",
       "      <td>0.00</td>\n",
       "      <td>0.043548</td>\n",
       "    </tr>\n",
       "    <tr>\n",
       "      <th>142</th>\n",
       "      <td>2023-03-28T11-45-15-DSSC1-Run4_fov-6-scan-1</td>\n",
       "      <td>0.00</td>\n",
       "      <td>0.040625</td>\n",
       "    </tr>\n",
       "  </tbody>\n",
       "</table>\n",
       "<p>143 rows × 3 columns</p>\n",
       "</div>"
      ],
      "text/plain": [
       "                                         run_fov  perc_medium  perc_mean\n",
       "0    2023-03-04T16-22-15-DSSC1-Run1_fov-3-scan-1         0.05   0.057895\n",
       "1    2023-03-04T16-22-15-DSSC1-Run1_fov-4-scan-1         0.00   0.046053\n",
       "2    2023-03-04T16-22-15-DSSC1-Run1_fov-5-scan-1         0.10   0.083333\n",
       "3    2023-03-04T19-46-22-DSSC1-Run2_fov-1-scan-1         0.00   0.048551\n",
       "4    2023-03-04T19-46-22-DSSC1-Run2_fov-2-scan-1         0.00   0.042241\n",
       "..                                           ...          ...        ...\n",
       "138  2023-03-28T11-45-15-DSSC1-Run4_fov-2-scan-1         0.00   0.021053\n",
       "139  2023-03-28T11-45-15-DSSC1-Run4_fov-3-scan-1         0.00   0.015217\n",
       "140  2023-03-28T11-45-15-DSSC1-Run4_fov-4-scan-1         0.00   0.031818\n",
       "141  2023-03-28T11-45-15-DSSC1-Run4_fov-5-scan-1         0.00   0.043548\n",
       "142  2023-03-28T11-45-15-DSSC1-Run4_fov-6-scan-1         0.00   0.040625\n",
       "\n",
       "[143 rows x 3 columns]"
      ]
     },
     "execution_count": 130,
     "metadata": {},
     "output_type": "execute_result"
    }
   ],
   "source": [
    "knbhd = pd.DataFrame.from_dict(dd)\n",
    "knbhd"
   ]
  },
  {
   "cell_type": "code",
   "execution_count": 131,
   "id": "95a40a0a",
   "metadata": {},
   "outputs": [],
   "source": [
    "knbhd.to_csv('../data/Knbhd_searchMhigh.csv', index = False)"
   ]
  },
  {
   "cell_type": "code",
   "execution_count": null,
   "id": "8fd71de5",
   "metadata": {},
   "outputs": [],
   "source": []
  },
  {
   "cell_type": "code",
   "execution_count": 19,
   "id": "69c38b2e",
   "metadata": {},
   "outputs": [],
   "source": [
    "n = temp.shape[0]\n",
    "ann = temp.annV1.to_list()\n",
    "knnsearch = []\n",
    "\n",
    "for i in range(n):\n",
    "    if ann[i] == 'Smooth muscle':\n",
    "        knnlist = k100search[i]\n",
    "        \n",
    "        count = -1\n",
    "        for index in knnlist:\n",
    "            if ann[index] == 'Macrophage':\n",
    "                break\n",
    "            else:\n",
    "                count = count + 1\n",
    "                \n",
    "        knnsearch.append(count)\n",
    "                       "
   ]
  },
  {
   "cell_type": "code",
   "execution_count": 21,
   "id": "942150a9",
   "metadata": {},
   "outputs": [
    {
     "data": {
      "text/plain": [
       "23.0"
      ]
     },
     "execution_count": 21,
     "metadata": {},
     "output_type": "execute_result"
    }
   ],
   "source": [
    "np.median(knnsearch)"
   ]
  },
  {
   "cell_type": "code",
   "execution_count": null,
   "id": "8610f26c",
   "metadata": {},
   "outputs": [],
   "source": []
  }
 ],
 "metadata": {
  "kernelspec": {
   "display_name": "Python 3 (ipykernel)",
   "language": "python",
   "name": "python3"
  },
  "language_info": {
   "codemirror_mode": {
    "name": "ipython",
    "version": 3
   },
   "file_extension": ".py",
   "mimetype": "text/x-python",
   "name": "python",
   "nbconvert_exporter": "python",
   "pygments_lexer": "ipython3",
   "version": "3.8.18"
  }
 },
 "nbformat": 4,
 "nbformat_minor": 5
}
