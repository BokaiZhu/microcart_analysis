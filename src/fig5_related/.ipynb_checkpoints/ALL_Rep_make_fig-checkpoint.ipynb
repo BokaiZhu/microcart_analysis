{
 "cells": [
  {
   "cell_type": "code",
   "execution_count": 9,
   "id": "ea1f546a",
   "metadata": {},
   "outputs": [],
   "source": [
    "import matplotlib.pyplot as plt\n",
    "import skimage\n",
    "import numpy as np\n",
    "import pandas as pd"
   ]
  },
  {
   "cell_type": "code",
   "execution_count": 10,
   "id": "f07847e8",
   "metadata": {},
   "outputs": [],
   "source": [
    "evalu = pd.read_csv('../extracted/EvaluationV2.csv')\n",
    "#evalu = evalu.dropna()\n",
    "\n",
    "# remove glycans that are not measured in all samples\n",
    "notinlist = ['Gc_28+S', 'Gc_28+S+Na*2', 'Gc_31+Fuc+Na*2', 'Gc_37+Sx2+Na', 'Gc_48+Sx2+Na',\n",
    "            'Gc_49+Fucx3', 'Gc_54+Fucx4+Na', '46', '38+Fucx2', 'Gc_8+Fuc']\n",
    "evalu = evalu[~evalu['composition'].isin(notinlist)]\n",
    "target = evalu['composition'].to_list()"
   ]
  },
  {
   "cell_type": "code",
   "execution_count": 15,
   "id": "44a89061",
   "metadata": {},
   "outputs": [
    {
     "data": {
      "text/plain": [
       "38"
      ]
     },
     "execution_count": 15,
     "metadata": {},
     "output_type": "execute_result"
    }
   ],
   "source": [
    "len(target)"
   ]
  },
  {
   "cell_type": "markdown",
   "id": "b319615d",
   "metadata": {},
   "source": [
    "## large version"
   ]
  },
  {
   "cell_type": "code",
   "execution_count": 18,
   "id": "7228c010",
   "metadata": {},
   "outputs": [],
   "source": [
    "for tar in target:\n",
    "    img_dir = '../extracted/pipeline_results/dsst3c3-total_ion_count/extracted/library_matched/float/' + tar + '.tiff'\n",
    "    img = skimage.io.imread(img_dir)\n",
    "    mask = skimage.io.imread('../extracted/pipeline_results/dsst3c3-total_ion_count/Mask2.tif')\n",
    "    igm = img * mask\n",
    "    igm2 = igm[300:600,363:663]\n",
    "    #thres = np.quantile(igm2, 0.99)\n",
    "    hthres = 40000\n",
    "    lthres = 2000\n",
    "    igm2[igm2>hthres]= hthres\n",
    "    igm2[igm2<lthres]= 0\n",
    "\n",
    "    plt.imshow(igm2, cmap = 'plasma')\n",
    "    #plt.show()\n",
    "    plt.colorbar()\n",
    "    plt.xticks([])\n",
    "    plt.yticks([])\n",
    "    savdir = '../plots/testing/s3_m2_' + tar + '.svg'\n",
    "    plt.savefig(savdir, dpi = 200) \n",
    "    plt.close()"
   ]
  },
  {
   "cell_type": "markdown",
   "id": "ba22ff28",
   "metadata": {},
   "source": [
    "## small version"
   ]
  },
  {
   "cell_type": "code",
   "execution_count": 19,
   "id": "d3abff33",
   "metadata": {},
   "outputs": [],
   "source": [
    "for tar in target:\n",
    "    img_dir = '../extracted/pipeline_results/dsst3c3-total_ion_count/extracted/library_matched/float/' + tar + '.tiff'\n",
    "    img = skimage.io.imread(img_dir)\n",
    "    mask = skimage.io.imread('../extracted/pipeline_results/dsst3c3-total_ion_count/Mask5.tif')\n",
    "    igm = img * mask\n",
    "    igm2 = igm[833:1133,350:650]\n",
    "    #thres = np.quantile(igm2, 0.99)\n",
    "    hthres = 40000\n",
    "    lthres = 2000\n",
    "    igm2[igm2>hthres]= hthres\n",
    "    igm2[igm2<lthres]= 0\n",
    "\n",
    "    plt.imshow(igm2, cmap = 'plasma')\n",
    "    #plt.show()\n",
    "    plt.colorbar()\n",
    "    plt.xticks([])\n",
    "    plt.yticks([])\n",
    "    savdir = '../plots/testing/s3_m5_' + tar + '.svg'\n",
    "    plt.savefig(savdir, dpi = 200) \n",
    "    plt.close()"
   ]
  },
  {
   "cell_type": "code",
   "execution_count": null,
   "id": "c4f29870",
   "metadata": {},
   "outputs": [],
   "source": []
  }
 ],
 "metadata": {
  "kernelspec": {
   "display_name": "Python 3 (ipykernel)",
   "language": "python",
   "name": "python3"
  },
  "language_info": {
   "codemirror_mode": {
    "name": "ipython",
    "version": 3
   },
   "file_extension": ".py",
   "mimetype": "text/x-python",
   "name": "python",
   "nbconvert_exporter": "python",
   "pygments_lexer": "ipython3",
   "version": "3.11.6"
  }
 },
 "nbformat": 4,
 "nbformat_minor": 5
}
