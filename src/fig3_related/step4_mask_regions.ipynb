{
 "cells": [
  {
   "cell_type": "markdown",
   "id": "58445983",
   "metadata": {},
   "source": [
    "# create masked version of tiffs"
   ]
  },
  {
   "cell_type": "code",
   "execution_count": 1,
   "id": "fda9009e",
   "metadata": {},
   "outputs": [],
   "source": [
    "import skimage\n",
    "import matplotlib.pyplot as plt\n",
    "import numpy as np\n",
    "import os\n",
    "import tifffile\n",
    "import warnings\n",
    "warnings.filterwarnings('ignore')"
   ]
  },
  {
   "cell_type": "markdown",
   "id": "a4d6ca9e-7dd4-470d-8321-5f2a609e104c",
   "metadata": {},
   "source": [
    "We do manual region masking for host and fecal regions in FIJI, and generate masks for fecal regions\n",
    "\n",
    "these fecal region masks were saved and used in this script"
   ]
  },
  {
   "cell_type": "code",
   "execution_count": 2,
   "id": "da7f22b3",
   "metadata": {},
   "outputs": [],
   "source": [
    "# fecal side channels\n",
    "f_side_only = [\"Alx488.tiff\",\n",
    "         \"DIG.tiff\",\n",
    "         \"FITC.tiff\",\n",
    "         \"TAMRA.tiff\"]\n",
    "\n",
    "# channels can be on both side\n",
    "both_side = [\"dsDNA.tiff\",\n",
    "            \"IgA.tiff\",\n",
    "            \"MUC2.tiff\",\n",
    "            \"Reg3beta.tiff\"]\n",
    "\n",
    "# rest should be only in host side\n",
    "\n",
    "extracted_imgs_dir = '../../final_data/compensated/micro_fine1ms/' # all extracted data stored here\n",
    "out_img_dir = '../../final_data/masked/micro_fine1ms/'\n",
    "\n",
    "#### runs to create tissue seg\n",
    "#run_names = ['2022-12-11T15-07-08-C3-3pt-fine-2ms-1024-400',\n",
    "#             '2022-12-10T18-30-32-T3D5-5pt-Fine-2ms-5ul-Test'] # specific run name\n",
    "#run_names = ['2023-02-28T12-53-51-DSST1-Run1'] # specific run name\n",
    "#run_names = ['2023-03-04T16-22-15-DSSC1-Run1']\n",
    "#run_names = ['2023-03-04T16-22-15-DSSC1-Run1', '2023-03-04T19-46-22-DSSC1-Run2',\n",
    "#            '2023-03-04T23-36-59-DSSC1-Run3', '2023-03-05T15-51-42-DSST2-Run1',\n",
    "#            '2023-03-05T18-22-42-DSST2-Run2', '2023-03-05T21-42-35-DSST2-Run3',\n",
    "#            '2023-03-05T23-58-06-DSST2-Run4', '2023-03-06T11-23-28-DSST2-Run5',\n",
    "#            '2023-03-06T13-40-46-DSST2-Run6', '2023-03-06T16-15-43-DSSC2-Run1'] # specific run name\n",
    "\n",
    "#run_names = ['2023-03-04T16-22-15-DSSC1-Run1', '2023-03-04T19-46-22-DSSC1-Run2',\n",
    "#             '2023-03-04T23-36-59-DSSC1-Run3', '2023-03-05T15-51-42-DSST2-Run1',\n",
    "#             '2023-03-05T18-22-42-DSST2-Run2', '2023-03-05T21-42-35-DSST2-Run3',\n",
    "#             '2023-03-05T23-58-06-DSST2-Run4', '2023-03-06T11-23-28-DSST2-Run5',\n",
    "#             '2023-03-06T13-40-46-DSST2-Run6', '2023-03-06T16-15-43-DSSC2-Run1',\n",
    "#             '2023-03-07T18-32-49-DSSC2-Run5', '2023-03-07T16-08-39-DSSC2-Run4',\n",
    "#             '2023-03-07T13-54-48-DSSC2-Run3', '2023-03-07T11-17-56-DSSC2-Run2',\n",
    "#             '2023-03-09T15-53-36-DSSC3-Run4', '2023-03-09T13-34-52-DSSC3-Run3',\n",
    "#             '2023-03-09T10-32-36-DSSC3-Run2', '2023-03-08T23-51-06-DSSC3-Run1',\n",
    "#             '2023-03-08T21-26-09-DSST3-Run6', '2023-03-08T18-48-43-DSST3-Run5',\n",
    "#             '2023-03-08T16-15-19-DSST3-Run4', '2023-03-08T14-03-50-DSST3-Run3',\n",
    "#             '2023-03-08T11-39-28-DSST3-Run2', '2023-03-07T22-15-40-DSST3-Run1'] # specific run name\n",
    "\n",
    "#run_names = ['2023-03-08T11-39-28-DSST3-Run2'] # rerun this due to missing\n",
    "\n",
    "run_names = ['2023-03-10T12-31-44-DSST4-Run1', '2023-03-10T14-47-38-DSST4-Run2', '2023-03-10T17-34-14-DSST4-Run3',\n",
    "            '2023-03-18T14-36-10-DSST4-Run4', '2023-03-18T17-28-03-DSST4-Run5', '2023-03-18T23-11-36-DSST4-Run6',\n",
    "            '2023-03-19T12-45-44-DSSC4-Run1', '2023-03-19T15-20-40-DSSC4-Run2', '2023-03-19T17-38-15-DSSC4-Run3',\n",
    "            '2023-03-19T20-32-23-DSSC4-Run4', '2023-03-20T12-07-46-DSST1-Run1', '2023-03-20T14-32-22-DSST1-Run2',\n",
    "            '2023-03-20T19-13-53-DSST1-Run3', '2023-03-20T21-44-51-DSST1-Run4', '2023-03-21T24-29-43-DSST1-Run5',\n",
    "            '2023-03-21T10-32-42-DSST1-Run6', '2023-03-21T12-44-51-DSST1-Run7', '2023-03-28T11-45-15-DSSC1-Run4'\n",
    "            ]\n",
    "####\n",
    "\n",
    "runs = run_names"
   ]
  },
  {
   "cell_type": "code",
   "execution_count": 3,
   "id": "700a8182",
   "metadata": {},
   "outputs": [
    {
     "name": "stdout",
     "output_type": "stream",
     "text": [
      "no fecal side in this fov\n",
      "2023-03-19T15-20-40-DSSC4-Run2fov-3-scan-1\n"
     ]
    }
   ],
   "source": [
    "for run in runs:\n",
    "    path_compensated = os.path.join(extracted_imgs_dir, run)\n",
    "    fovs = os.listdir(path_compensated)\n",
    "    \n",
    "    for fov in fovs:\n",
    "        if fov == '.DS_Store':\n",
    "            continue\n",
    "        \n",
    "        # read in mask if exist\n",
    "        mask_dir = os.path.join(extracted_imgs_dir, run, fov,\"rescaled\", \"Mask.tif\")\n",
    "        \n",
    "        #### start the process\n",
    "        fov_dir = os.path.join(extracted_imgs_dir, run, fov, \"rescaled\")\n",
    "        out_dir = os.path.join(out_img_dir, run, fov)\n",
    "        channels = os.listdir(fov_dir)\n",
    "        channels.remove(\"tissue_add.tiff\")\n",
    "        \n",
    "        os.makedirs(out_dir,exist_ok=True)\n",
    "        \n",
    "        if os.path.exists(mask_dir) != True: # case where no fecal side imaged\n",
    "            print(\"no fecal side in this fov\")\n",
    "            print(run + fov)\n",
    "            for channel in channels:\n",
    "                if channel not in f_side_only:\n",
    "                    if channel == \"dsDNA.tiff\":\n",
    "                        img = skimage.io.imread(os.path.join(fov_dir,channel))\n",
    "                        skimage.io.imsave(os.path.join(out_dir, \"dsDNA_host.tiff\"),img)\n",
    "                    else:\n",
    "                        img = skimage.io.imread(os.path.join(fov_dir,channel))\n",
    "                        skimage.io.imsave(os.path.join(out_dir, channel),img)\n",
    "                else: # if dont have feces region just save out empty img\n",
    "                    skimage.io.imsave(os.path.join(out_dir, channel),np.zeros((1024,1024)))\n",
    "                    \n",
    "        else:\n",
    "            mask = skimage.io.imread(mask_dir)\n",
    "            mask[mask > 0] = 1 # make mask to 01 instead of 0255\n",
    "            \n",
    "            for channel in channels:\n",
    "                \n",
    "                if channel in f_side_only: # fecal side only channels\n",
    "                    img = skimage.io.imread(os.path.join(fov_dir,channel))\n",
    "                    img2 = img * (1 - mask)\n",
    "                    skimage.io.imsave(os.path.join(out_dir, channel),img2)\n",
    "                    \n",
    "                elif ((channel not in f_side_only) and (channel not in both_side)): # host side only channels\n",
    "                    img = skimage.io.imread(os.path.join(fov_dir,channel))\n",
    "                    img2 = img * mask\n",
    "                    skimage.io.imsave(os.path.join(out_dir, channel),img2)\n",
    "                    \n",
    "                else: # ones that can be on both side\n",
    "                    if channel == \"dsDNA.tiff\":\n",
    "                        img = skimage.io.imread(os.path.join(fov_dir,channel))\n",
    "                        img2 = img * mask\n",
    "                        skimage.io.imsave(os.path.join(out_dir, \"dsDNA_host.tiff\"),img2)\n",
    "                        img2 = img * (1 - mask)\n",
    "                        skimage.io.imsave(os.path.join(out_dir, \"dsDNA_feces.tiff\"),img2)\n",
    "                        \n",
    "                    else:\n",
    "                        img = skimage.io.imread(os.path.join(fov_dir,channel))\n",
    "                        skimage.io.imsave(os.path.join(out_dir, channel),img)\n",
    "                    \n",
    "                    \n",
    "            "
   ]
  },
  {
   "cell_type": "code",
   "execution_count": null,
   "id": "eb17b435",
   "metadata": {},
   "outputs": [],
   "source": [
    "    "
   ]
  }
 ],
 "metadata": {
  "kernelspec": {
   "display_name": "Python 3 (ipykernel)",
   "language": "python",
   "name": "python3"
  },
  "language_info": {
   "codemirror_mode": {
    "name": "ipython",
    "version": 3
   },
   "file_extension": ".py",
   "mimetype": "text/x-python",
   "name": "python",
   "nbconvert_exporter": "python",
   "pygments_lexer": "ipython3",
   "version": "3.8.18"
  }
 },
 "nbformat": 4,
 "nbformat_minor": 5
}
