{
 "cells": [
  {
   "cell_type": "markdown",
   "metadata": {},
   "source": [
    "Note this script I ran on a google colab server for pre setup of CUDA environment.\n",
    "\n",
    "Process smilar to Deepcell-MESMER github notebook.\n",
    "\n",
    "Output of this code is single cell masks (only on host regions) in tiff format"
   ]
  },
  {
   "cell_type": "code",
   "execution_count": 1,
   "metadata": {
    "colab": {
     "base_uri": "https://localhost:8080/"
    },
    "executionInfo": {
     "elapsed": 140821,
     "status": "ok",
     "timestamp": 1677887315674,
     "user": {
      "displayName": "Bokai Zhu",
      "userId": "09132585489018838978"
     },
     "user_tz": 480
    },
    "id": "ud6t4GX3imDh",
    "outputId": "1dda3e70-7131-47ff-ae29-345d93c660ea"
   },
   "outputs": [
    {
     "name": "stdout",
     "output_type": "stream",
     "text": [
      "Looking in indexes: https://pypi.org/simple, https://us-python.pkg.dev/colab-wheels/public/simple/\n",
      "Collecting deepcell\n",
      "  Downloading DeepCell-0.12.4.tar.gz (143 kB)\n",
      "\u001b[2K     \u001b[90m━━━━━━━━━━━━━━━━━━━━━━━━━━━━━━━━━━━━━━━\u001b[0m \u001b[32m143.9/143.9 KB\u001b[0m \u001b[31m1.0 MB/s\u001b[0m eta \u001b[36m0:00:00\u001b[0m\n",
      "\u001b[?25h  Installing build dependencies ... \u001b[?25l\u001b[?25hdone\n",
      "  Getting requirements to build wheel ... \u001b[?25l\u001b[?25hdone\n",
      "  Preparing metadata (pyproject.toml) ... \u001b[?25l\u001b[?25hdone\n",
      "Collecting deepcell-tracking~=0.6.1\n",
      "  Downloading DeepCell_Tracking-0.6.4.tar.gz (37 kB)\n",
      "  Preparing metadata (setup.py) ... \u001b[?25l\u001b[?25hdone\n",
      "Requirement already satisfied: scikit-image>=0.14.5 in /usr/local/lib/python3.8/dist-packages (from deepcell) (0.19.3)\n",
      "Requirement already satisfied: scikit-learn>=0.20.4 in /usr/local/lib/python3.8/dist-packages (from deepcell) (1.2.1)\n",
      "Collecting tensorflow-addons~=0.16.1\n",
      "  Downloading tensorflow_addons-0.16.1-cp38-cp38-manylinux_2_12_x86_64.manylinux2010_x86_64.whl (1.1 MB)\n",
      "\u001b[2K     \u001b[90m━━━━━━━━━━━━━━━━━━━━━━━━━━━━━━━━━━━━━━━━\u001b[0m \u001b[32m1.1/1.1 MB\u001b[0m \u001b[31m70.9 MB/s\u001b[0m eta \u001b[36m0:00:00\u001b[0m\n",
      "\u001b[?25hCollecting tensorflow~=2.8.0\n",
      "  Downloading tensorflow-2.8.4-cp38-cp38-manylinux2010_x86_64.whl (498.0 MB)\n",
      "\u001b[2K     \u001b[90m━━━━━━━━━━━━━━━━━━━━━━━━━━━━━━━━━━━━━━━\u001b[0m \u001b[32m498.0/498.0 MB\u001b[0m \u001b[31m3.3 MB/s\u001b[0m eta \u001b[36m0:00:00\u001b[0m\n",
      "\u001b[?25hCollecting spektral~=1.0.4\n",
      "  Downloading spektral-1.0.8-py3-none-any.whl (123 kB)\n",
      "\u001b[2K     \u001b[90m━━━━━━━━━━━━━━━━━━━━━━━━━━━━━━━━━━━━━━\u001b[0m \u001b[32m123.4/123.4 KB\u001b[0m \u001b[31m16.3 MB/s\u001b[0m eta \u001b[36m0:00:00\u001b[0m\n",
      "\u001b[?25hRequirement already satisfied: matplotlib in /usr/local/lib/python3.8/dist-packages (from deepcell) (3.5.3)\n",
      "Requirement already satisfied: opencv-python-headless<5 in /usr/local/lib/python3.8/dist-packages (from deepcell) (4.7.0.72)\n",
      "Requirement already satisfied: scipy<2,>=1.2.3 in /usr/local/lib/python3.8/dist-packages (from deepcell) (1.10.1)\n",
      "Collecting deepcell-toolbox~=0.12.0\n",
      "  Downloading DeepCell_Toolbox-0.12.0.tar.gz (39 kB)\n",
      "  Installing build dependencies ... \u001b[?25l\u001b[?25hdone\n",
      "  Getting requirements to build wheel ... \u001b[?25l\u001b[?25hdone\n",
      "  Preparing metadata (pyproject.toml) ... \u001b[?25l\u001b[?25hdone\n",
      "Collecting jupyter<2,>=1.0.0\n",
      "  Downloading jupyter-1.0.0-py2.py3-none-any.whl (2.7 kB)\n",
      "Requirement already satisfied: numpy<1.24,>=1.16.6 in /usr/local/lib/python3.8/dist-packages (from deepcell) (1.22.4)\n",
      "Collecting pydot<2,>=1.4.2\n",
      "  Downloading pydot-1.4.2-py2.py3-none-any.whl (21 kB)\n",
      "Requirement already satisfied: tqdm in /usr/local/lib/python3.8/dist-packages (from deepcell-toolbox~=0.12.0->deepcell) (4.64.1)\n",
      "Requirement already satisfied: cython>=0.28.0 in /usr/local/lib/python3.8/dist-packages (from deepcell-toolbox~=0.12.0->deepcell) (0.29.33)\n",
      "Requirement already satisfied: pandas in /usr/local/lib/python3.8/dist-packages (from deepcell-toolbox~=0.12.0->deepcell) (1.3.5)\n",
      "Requirement already satisfied: networkx>=2.1 in /usr/local/lib/python3.8/dist-packages (from deepcell-toolbox~=0.12.0->deepcell) (3.0)\n",
      "Collecting qtconsole\n",
      "  Downloading qtconsole-5.4.0-py3-none-any.whl (121 kB)\n",
      "\u001b[2K     \u001b[90m━━━━━━━━━━━━━━━━━━━━━━━━━━━━━━━━━━━━━━\u001b[0m \u001b[32m121.0/121.0 KB\u001b[0m \u001b[31m17.5 MB/s\u001b[0m eta \u001b[36m0:00:00\u001b[0m\n",
      "\u001b[?25hRequirement already satisfied: ipywidgets in /usr/local/lib/python3.8/dist-packages (from jupyter<2,>=1.0.0->deepcell) (7.7.1)\n",
      "Requirement already satisfied: jupyter-console in /usr/local/lib/python3.8/dist-packages (from jupyter<2,>=1.0.0->deepcell) (6.1.0)\n",
      "Requirement already satisfied: ipykernel in /usr/local/lib/python3.8/dist-packages (from jupyter<2,>=1.0.0->deepcell) (5.3.4)\n",
      "Requirement already satisfied: notebook in /usr/local/lib/python3.8/dist-packages (from jupyter<2,>=1.0.0->deepcell) (6.3.0)\n",
      "Requirement already satisfied: nbconvert in /usr/local/lib/python3.8/dist-packages (from jupyter<2,>=1.0.0->deepcell) (6.5.4)\n",
      "Requirement already satisfied: pyparsing>=2.1.4 in /usr/local/lib/python3.8/dist-packages (from pydot<2,>=1.4.2->deepcell) (3.0.9)\n",
      "Requirement already satisfied: imageio>=2.4.1 in /usr/local/lib/python3.8/dist-packages (from scikit-image>=0.14.5->deepcell) (2.9.0)\n",
      "Requirement already satisfied: packaging>=20.0 in /usr/local/lib/python3.8/dist-packages (from scikit-image>=0.14.5->deepcell) (23.0)\n",
      "Requirement already satisfied: tifffile>=2019.7.26 in /usr/local/lib/python3.8/dist-packages (from scikit-image>=0.14.5->deepcell) (2023.2.27)\n",
      "Requirement already satisfied: PyWavelets>=1.1.1 in /usr/local/lib/python3.8/dist-packages (from scikit-image>=0.14.5->deepcell) (1.4.1)\n",
      "Requirement already satisfied: pillow!=7.1.0,!=7.1.1,!=8.3.0,>=6.1.0 in /usr/local/lib/python3.8/dist-packages (from scikit-image>=0.14.5->deepcell) (8.4.0)\n",
      "Requirement already satisfied: threadpoolctl>=2.0.0 in /usr/local/lib/python3.8/dist-packages (from scikit-learn>=0.20.4->deepcell) (3.1.0)\n",
      "Requirement already satisfied: joblib>=1.1.1 in /usr/local/lib/python3.8/dist-packages (from scikit-learn>=0.20.4->deepcell) (1.2.0)\n",
      "Collecting numpy<1.24,>=1.16.6\n",
      "  Downloading numpy-1.19.5-cp38-cp38-manylinux2010_x86_64.whl (14.9 MB)\n",
      "\u001b[2K     \u001b[90m━━━━━━━━━━━━━━━━━━━━━━━━━━━━━━━━━━━━━━━━\u001b[0m \u001b[32m14.9/14.9 MB\u001b[0m \u001b[31m94.3 MB/s\u001b[0m eta \u001b[36m0:00:00\u001b[0m\n",
      "\u001b[?25hRequirement already satisfied: requests in /usr/local/lib/python3.8/dist-packages (from spektral~=1.0.4->deepcell) (2.25.1)\n",
      "Requirement already satisfied: lxml in /usr/local/lib/python3.8/dist-packages (from spektral~=1.0.4->deepcell) (4.9.2)\n",
      "Requirement already satisfied: typing-extensions>=3.6.6 in /usr/local/lib/python3.8/dist-packages (from tensorflow~=2.8.0->deepcell) (4.5.0)\n",
      "Requirement already satisfied: six>=1.12.0 in /usr/local/lib/python3.8/dist-packages (from tensorflow~=2.8.0->deepcell) (1.15.0)\n",
      "Collecting tensorflow-estimator<2.9,>=2.8\n",
      "  Downloading tensorflow_estimator-2.8.0-py2.py3-none-any.whl (462 kB)\n",
      "\u001b[2K     \u001b[90m━━━━━━━━━━━━━━━━━━━━━━━━━━━━━━━━━━━━━━\u001b[0m \u001b[32m462.3/462.3 KB\u001b[0m \u001b[31m47.0 MB/s\u001b[0m eta \u001b[36m0:00:00\u001b[0m\n",
      "\u001b[?25hRequirement already satisfied: protobuf<3.20,>=3.9.2 in /usr/local/lib/python3.8/dist-packages (from tensorflow~=2.8.0->deepcell) (3.19.6)\n",
      "Requirement already satisfied: opt-einsum>=2.3.2 in /usr/local/lib/python3.8/dist-packages (from tensorflow~=2.8.0->deepcell) (3.3.0)\n",
      "Requirement already satisfied: gast>=0.2.1 in /usr/local/lib/python3.8/dist-packages (from tensorflow~=2.8.0->deepcell) (0.4.0)\n",
      "Collecting keras-preprocessing>=1.1.1\n",
      "  Downloading Keras_Preprocessing-1.1.2-py2.py3-none-any.whl (42 kB)\n",
      "\u001b[2K     \u001b[90m━━━━━━━━━━━━━━━━━━━━━━━━━━━━━━━━━━━━━━━━\u001b[0m \u001b[32m42.6/42.6 KB\u001b[0m \u001b[31m6.3 MB/s\u001b[0m eta \u001b[36m0:00:00\u001b[0m\n",
      "\u001b[?25hRequirement already satisfied: setuptools in /usr/local/lib/python3.8/dist-packages (from tensorflow~=2.8.0->deepcell) (57.4.0)\n",
      "Requirement already satisfied: termcolor>=1.1.0 in /usr/local/lib/python3.8/dist-packages (from tensorflow~=2.8.0->deepcell) (2.2.0)\n",
      "Requirement already satisfied: libclang>=9.0.1 in /usr/local/lib/python3.8/dist-packages (from tensorflow~=2.8.0->deepcell) (15.0.6.1)\n",
      "Requirement already satisfied: flatbuffers>=1.12 in /usr/local/lib/python3.8/dist-packages (from tensorflow~=2.8.0->deepcell) (23.1.21)\n",
      "Requirement already satisfied: google-pasta>=0.1.1 in /usr/local/lib/python3.8/dist-packages (from tensorflow~=2.8.0->deepcell) (0.2.0)\n",
      "Requirement already satisfied: astunparse>=1.6.0 in /usr/local/lib/python3.8/dist-packages (from tensorflow~=2.8.0->deepcell) (1.6.3)\n",
      "Collecting tensorflow~=2.8.0\n",
      "  Downloading tensorflow-2.8.3-cp38-cp38-manylinux2010_x86_64.whl (498.4 MB)\n",
      "\u001b[2K     \u001b[90m━━━━━━━━━━━━━━━━━━━━━━━━━━━━━━━━━━━━━━━\u001b[0m \u001b[32m498.4/498.4 MB\u001b[0m \u001b[31m3.4 MB/s\u001b[0m eta \u001b[36m0:00:00\u001b[0m\n",
      "\u001b[?25h  Downloading tensorflow-2.8.2-cp38-cp38-manylinux2010_x86_64.whl (498.0 MB)\n",
      "\u001b[2K     \u001b[90m━━━━━━━━━━━━━━━━━━━━━━━━━━━━━━━━━━━━━━━\u001b[0m \u001b[32m498.0/498.0 MB\u001b[0m \u001b[31m3.3 MB/s\u001b[0m eta \u001b[36m0:00:00\u001b[0m\n",
      "\u001b[?25h  Downloading tensorflow-2.8.1-cp38-cp38-manylinux2010_x86_64.whl (498.0 MB)\n",
      "\u001b[2K     \u001b[90m━━━━━━━━━━━━━━━━━━━━━━━━━━━━━━━━━━━━━━━\u001b[0m \u001b[32m498.0/498.0 MB\u001b[0m \u001b[31m3.2 MB/s\u001b[0m eta \u001b[36m0:00:00\u001b[0m\n",
      "\u001b[?25h  Downloading tensorflow-2.8.0-cp38-cp38-manylinux2010_x86_64.whl (497.6 MB)\n",
      "\u001b[2K     \u001b[90m━━━━━━━━━━━━━━━━━━━━━━━━━━━━━━━━━━━━━━━\u001b[0m \u001b[32m497.6/497.6 MB\u001b[0m \u001b[31m3.5 MB/s\u001b[0m eta \u001b[36m0:00:00\u001b[0m\n",
      "\u001b[?25hCollecting tf-estimator-nightly==2.8.0.dev2021122109\n",
      "  Downloading tf_estimator_nightly-2.8.0.dev2021122109-py2.py3-none-any.whl (462 kB)\n",
      "\u001b[2K     \u001b[90m━━━━━━━━━━━━━━━━━━━━━━━━━━━━━━━━━━━━━━\u001b[0m \u001b[32m462.5/462.5 KB\u001b[0m \u001b[31m18.0 MB/s\u001b[0m eta \u001b[36m0:00:00\u001b[0m\n",
      "\u001b[?25hINFO: pip is looking at multiple versions of numpy to determine which version is compatible with other requirements. This could take a while.\n",
      "INFO: pip is looking at multiple versions of spektral to determine which version is compatible with other requirements. This could take a while.\n",
      "Collecting spektral~=1.0.4\n",
      "  Downloading spektral-1.0.7-py3-none-any.whl (122 kB)\n",
      "\u001b[2K     \u001b[90m━━━━━━━━━━━━━━━━━━━━━━━━━━━━━━━━━━━━━━━\u001b[0m \u001b[32m122.9/122.9 KB\u001b[0m \u001b[31m3.5 MB/s\u001b[0m eta \u001b[36m0:00:00\u001b[0m\n",
      "\u001b[?25h  Downloading spektral-1.0.6-py3-none-any.whl (114 kB)\n",
      "\u001b[2K     \u001b[90m━━━━━━━━━━━━━━━━━━━━━━━━━━━━━━━━━━━━━━\u001b[0m \u001b[32m114.4/114.4 KB\u001b[0m \u001b[31m15.6 MB/s\u001b[0m eta \u001b[36m0:00:00\u001b[0m\n",
      "\u001b[?25hCollecting keras<2.9,>=2.8.0rc0\n",
      "  Downloading keras-2.8.0-py2.py3-none-any.whl (1.4 MB)\n",
      "\u001b[2K     \u001b[90m━━━━━━━━━━━━━━━━━━━━━━━━━━━━━━━━━━━━━━━━\u001b[0m \u001b[32m1.4/1.4 MB\u001b[0m \u001b[31m58.0 MB/s\u001b[0m eta \u001b[36m0:00:00\u001b[0m\n",
      "\u001b[?25hRequirement already satisfied: tensorflow-io-gcs-filesystem>=0.23.1 in /usr/local/lib/python3.8/dist-packages (from tensorflow~=2.8.0->deepcell) (0.31.0)\n",
      "Requirement already satisfied: absl-py>=0.4.0 in /usr/local/lib/python3.8/dist-packages (from tensorflow~=2.8.0->deepcell) (1.4.0)\n",
      "Requirement already satisfied: h5py>=2.9.0 in /usr/local/lib/python3.8/dist-packages (from tensorflow~=2.8.0->deepcell) (3.1.0)\n",
      "Collecting tensorboard<2.9,>=2.8\n",
      "  Downloading tensorboard-2.8.0-py3-none-any.whl (5.8 MB)\n",
      "\u001b[2K     \u001b[90m━━━━━━━━━━━━━━━━━━━━━━━━━━━━━━━━━━━━━━━━\u001b[0m \u001b[32m5.8/5.8 MB\u001b[0m \u001b[31m79.0 MB/s\u001b[0m eta \u001b[36m0:00:00\u001b[0m\n",
      "\u001b[?25hRequirement already satisfied: grpcio<2.0,>=1.24.3 in /usr/local/lib/python3.8/dist-packages (from tensorflow~=2.8.0->deepcell) (1.51.3)\n",
      "Requirement already satisfied: wrapt>=1.11.0 in /usr/local/lib/python3.8/dist-packages (from tensorflow~=2.8.0->deepcell) (1.15.0)\n",
      "Requirement already satisfied: typeguard>=2.7 in /usr/local/lib/python3.8/dist-packages (from tensorflow-addons~=0.16.1->deepcell) (2.7.1)\n",
      "Requirement already satisfied: python-dateutil>=2.7 in /usr/local/lib/python3.8/dist-packages (from matplotlib->deepcell) (2.8.2)\n",
      "Requirement already satisfied: kiwisolver>=1.0.1 in /usr/local/lib/python3.8/dist-packages (from matplotlib->deepcell) (1.4.4)\n",
      "Requirement already satisfied: cycler>=0.10 in /usr/local/lib/python3.8/dist-packages (from matplotlib->deepcell) (0.11.0)\n",
      "Requirement already satisfied: fonttools>=4.22.0 in /usr/local/lib/python3.8/dist-packages (from matplotlib->deepcell) (4.38.0)\n",
      "Requirement already satisfied: wheel<1.0,>=0.23.0 in /usr/local/lib/python3.8/dist-packages (from astunparse>=1.6.0->tensorflow~=2.8.0->deepcell) (0.38.4)\n",
      "Requirement already satisfied: google-auth<3,>=1.6.3 in /usr/local/lib/python3.8/dist-packages (from tensorboard<2.9,>=2.8->tensorflow~=2.8.0->deepcell) (2.16.1)\n",
      "Requirement already satisfied: tensorboard-plugin-wit>=1.6.0 in /usr/local/lib/python3.8/dist-packages (from tensorboard<2.9,>=2.8->tensorflow~=2.8.0->deepcell) (1.8.1)\n",
      "Requirement already satisfied: werkzeug>=0.11.15 in /usr/local/lib/python3.8/dist-packages (from tensorboard<2.9,>=2.8->tensorflow~=2.8.0->deepcell) (2.2.3)\n",
      "Requirement already satisfied: google-auth-oauthlib<0.5,>=0.4.1 in /usr/local/lib/python3.8/dist-packages (from tensorboard<2.9,>=2.8->tensorflow~=2.8.0->deepcell) (0.4.6)\n",
      "Requirement already satisfied: markdown>=2.6.8 in /usr/local/lib/python3.8/dist-packages (from tensorboard<2.9,>=2.8->tensorflow~=2.8.0->deepcell) (3.4.1)\n",
      "Requirement already satisfied: tensorboard-data-server<0.7.0,>=0.6.0 in /usr/local/lib/python3.8/dist-packages (from tensorboard<2.9,>=2.8->tensorflow~=2.8.0->deepcell) (0.6.1)\n",
      "Requirement already satisfied: certifi>=2017.4.17 in /usr/local/lib/python3.8/dist-packages (from requests->spektral~=1.0.4->deepcell) (2022.12.7)\n",
      "Requirement already satisfied: chardet<5,>=3.0.2 in /usr/local/lib/python3.8/dist-packages (from requests->spektral~=1.0.4->deepcell) (4.0.0)\n",
      "Requirement already satisfied: idna<3,>=2.5 in /usr/local/lib/python3.8/dist-packages (from requests->spektral~=1.0.4->deepcell) (2.10)\n",
      "Requirement already satisfied: urllib3<1.27,>=1.21.1 in /usr/local/lib/python3.8/dist-packages (from requests->spektral~=1.0.4->deepcell) (1.26.14)\n",
      "Requirement already satisfied: tornado>=4.2 in /usr/local/lib/python3.8/dist-packages (from ipykernel->jupyter<2,>=1.0.0->deepcell) (6.2)\n",
      "Requirement already satisfied: ipython>=5.0.0 in /usr/local/lib/python3.8/dist-packages (from ipykernel->jupyter<2,>=1.0.0->deepcell) (7.9.0)\n",
      "Requirement already satisfied: traitlets>=4.1.0 in /usr/local/lib/python3.8/dist-packages (from ipykernel->jupyter<2,>=1.0.0->deepcell) (5.7.1)\n",
      "Requirement already satisfied: jupyter-client in /usr/local/lib/python3.8/dist-packages (from ipykernel->jupyter<2,>=1.0.0->deepcell) (6.1.12)\n",
      "Requirement already satisfied: widgetsnbextension~=3.6.0 in /usr/local/lib/python3.8/dist-packages (from ipywidgets->jupyter<2,>=1.0.0->deepcell) (3.6.2)\n",
      "Requirement already satisfied: jupyterlab-widgets>=1.0.0 in /usr/local/lib/python3.8/dist-packages (from ipywidgets->jupyter<2,>=1.0.0->deepcell) (3.0.5)\n",
      "Requirement already satisfied: ipython-genutils~=0.2.0 in /usr/local/lib/python3.8/dist-packages (from ipywidgets->jupyter<2,>=1.0.0->deepcell) (0.2.0)\n",
      "Requirement already satisfied: pygments in /usr/local/lib/python3.8/dist-packages (from jupyter-console->jupyter<2,>=1.0.0->deepcell) (2.6.1)\n",
      "Requirement already satisfied: prompt-toolkit!=3.0.0,!=3.0.1,<3.1.0,>=2.0.0 in /usr/local/lib/python3.8/dist-packages (from jupyter-console->jupyter<2,>=1.0.0->deepcell) (2.0.10)\n",
      "Requirement already satisfied: entrypoints>=0.2.2 in /usr/local/lib/python3.8/dist-packages (from nbconvert->jupyter<2,>=1.0.0->deepcell) (0.4)\n",
      "Requirement already satisfied: jupyter-core>=4.7 in /usr/local/lib/python3.8/dist-packages (from nbconvert->jupyter<2,>=1.0.0->deepcell) (5.2.0)\n",
      "Requirement already satisfied: nbformat>=5.1 in /usr/local/lib/python3.8/dist-packages (from nbconvert->jupyter<2,>=1.0.0->deepcell) (5.7.3)\n",
      "Requirement already satisfied: pandocfilters>=1.4.1 in /usr/local/lib/python3.8/dist-packages (from nbconvert->jupyter<2,>=1.0.0->deepcell) (1.5.0)\n",
      "Requirement already satisfied: nbclient>=0.5.0 in /usr/local/lib/python3.8/dist-packages (from nbconvert->jupyter<2,>=1.0.0->deepcell) (0.7.2)\n",
      "Requirement already satisfied: bleach in /usr/local/lib/python3.8/dist-packages (from nbconvert->jupyter<2,>=1.0.0->deepcell) (6.0.0)\n",
      "Requirement already satisfied: MarkupSafe>=2.0 in /usr/local/lib/python3.8/dist-packages (from nbconvert->jupyter<2,>=1.0.0->deepcell) (2.1.2)\n",
      "Requirement already satisfied: jupyterlab-pygments in /usr/local/lib/python3.8/dist-packages (from nbconvert->jupyter<2,>=1.0.0->deepcell) (0.2.2)\n",
      "Requirement already satisfied: defusedxml in /usr/local/lib/python3.8/dist-packages (from nbconvert->jupyter<2,>=1.0.0->deepcell) (0.7.1)\n",
      "Requirement already satisfied: mistune<2,>=0.8.1 in /usr/local/lib/python3.8/dist-packages (from nbconvert->jupyter<2,>=1.0.0->deepcell) (0.8.4)\n",
      "Requirement already satisfied: tinycss2 in /usr/local/lib/python3.8/dist-packages (from nbconvert->jupyter<2,>=1.0.0->deepcell) (1.2.1)\n",
      "Requirement already satisfied: jinja2>=3.0 in /usr/local/lib/python3.8/dist-packages (from nbconvert->jupyter<2,>=1.0.0->deepcell) (3.1.2)\n",
      "Requirement already satisfied: beautifulsoup4 in /usr/local/lib/python3.8/dist-packages (from nbconvert->jupyter<2,>=1.0.0->deepcell) (4.6.3)\n",
      "Requirement already satisfied: prometheus-client in /usr/local/lib/python3.8/dist-packages (from notebook->jupyter<2,>=1.0.0->deepcell) (0.16.0)\n",
      "Requirement already satisfied: argon2-cffi in /usr/local/lib/python3.8/dist-packages (from notebook->jupyter<2,>=1.0.0->deepcell) (21.3.0)\n",
      "Requirement already satisfied: terminado>=0.8.3 in /usr/local/lib/python3.8/dist-packages (from notebook->jupyter<2,>=1.0.0->deepcell) (0.13.3)\n",
      "Requirement already satisfied: Send2Trash>=1.5.0 in /usr/local/lib/python3.8/dist-packages (from notebook->jupyter<2,>=1.0.0->deepcell) (1.8.0)\n",
      "Requirement already satisfied: pyzmq>=17 in /usr/local/lib/python3.8/dist-packages (from notebook->jupyter<2,>=1.0.0->deepcell) (23.2.1)\n",
      "Requirement already satisfied: pytz>=2017.3 in /usr/local/lib/python3.8/dist-packages (from pandas->deepcell-toolbox~=0.12.0->deepcell) (2022.7.1)\n",
      "Collecting qtpy>=2.0.1\n",
      "  Downloading QtPy-2.3.0-py3-none-any.whl (83 kB)\n",
      "\u001b[2K     \u001b[90m━━━━━━━━━━━━━━━━━━━━━━━━━━━━━━━━━━━━━━━━\u001b[0m \u001b[32m83.6/83.6 KB\u001b[0m \u001b[31m12.3 MB/s\u001b[0m eta \u001b[36m0:00:00\u001b[0m\n",
      "\u001b[?25hRequirement already satisfied: rsa<5,>=3.1.4 in /usr/local/lib/python3.8/dist-packages (from google-auth<3,>=1.6.3->tensorboard<2.9,>=2.8->tensorflow~=2.8.0->deepcell) (4.9)\n",
      "Requirement already satisfied: cachetools<6.0,>=2.0.0 in /usr/local/lib/python3.8/dist-packages (from google-auth<3,>=1.6.3->tensorboard<2.9,>=2.8->tensorflow~=2.8.0->deepcell) (5.3.0)\n",
      "Requirement already satisfied: pyasn1-modules>=0.2.1 in /usr/local/lib/python3.8/dist-packages (from google-auth<3,>=1.6.3->tensorboard<2.9,>=2.8->tensorflow~=2.8.0->deepcell) (0.2.8)\n",
      "Requirement already satisfied: requests-oauthlib>=0.7.0 in /usr/local/lib/python3.8/dist-packages (from google-auth-oauthlib<0.5,>=0.4.1->tensorboard<2.9,>=2.8->tensorflow~=2.8.0->deepcell) (1.3.1)\n",
      "Collecting jedi>=0.10\n",
      "  Downloading jedi-0.18.2-py2.py3-none-any.whl (1.6 MB)\n",
      "\u001b[2K     \u001b[90m━━━━━━━━━━━━━━━━━━━━━━━━━━━━━━━━━━━━━━━━\u001b[0m \u001b[32m1.6/1.6 MB\u001b[0m \u001b[31m66.2 MB/s\u001b[0m eta \u001b[36m0:00:00\u001b[0m\n",
      "\u001b[?25hRequirement already satisfied: pickleshare in /usr/local/lib/python3.8/dist-packages (from ipython>=5.0.0->ipykernel->jupyter<2,>=1.0.0->deepcell) (0.7.5)\n",
      "Requirement already satisfied: decorator in /usr/local/lib/python3.8/dist-packages (from ipython>=5.0.0->ipykernel->jupyter<2,>=1.0.0->deepcell) (4.4.2)\n",
      "Requirement already satisfied: backcall in /usr/local/lib/python3.8/dist-packages (from ipython>=5.0.0->ipykernel->jupyter<2,>=1.0.0->deepcell) (0.2.0)\n",
      "Requirement already satisfied: pexpect in /usr/local/lib/python3.8/dist-packages (from ipython>=5.0.0->ipykernel->jupyter<2,>=1.0.0->deepcell) (4.8.0)\n",
      "Requirement already satisfied: platformdirs>=2.5 in /usr/local/lib/python3.8/dist-packages (from jupyter-core>=4.7->nbconvert->jupyter<2,>=1.0.0->deepcell) (3.0.0)\n",
      "Requirement already satisfied: importlib-metadata>=4.4 in /usr/local/lib/python3.8/dist-packages (from markdown>=2.6.8->tensorboard<2.9,>=2.8->tensorflow~=2.8.0->deepcell) (6.0.0)\n",
      "Requirement already satisfied: jsonschema>=2.6 in /usr/local/lib/python3.8/dist-packages (from nbformat>=5.1->nbconvert->jupyter<2,>=1.0.0->deepcell) (4.3.3)\n",
      "Requirement already satisfied: fastjsonschema in /usr/local/lib/python3.8/dist-packages (from nbformat>=5.1->nbconvert->jupyter<2,>=1.0.0->deepcell) (2.16.3)\n",
      "Requirement already satisfied: wcwidth in /usr/local/lib/python3.8/dist-packages (from prompt-toolkit!=3.0.0,!=3.0.1,<3.1.0,>=2.0.0->jupyter-console->jupyter<2,>=1.0.0->deepcell) (0.2.6)\n",
      "Requirement already satisfied: ptyprocess in /usr/local/lib/python3.8/dist-packages (from terminado>=0.8.3->notebook->jupyter<2,>=1.0.0->deepcell) (0.7.0)\n",
      "Requirement already satisfied: argon2-cffi-bindings in /usr/local/lib/python3.8/dist-packages (from argon2-cffi->notebook->jupyter<2,>=1.0.0->deepcell) (21.2.0)\n",
      "Requirement already satisfied: webencodings in /usr/local/lib/python3.8/dist-packages (from bleach->nbconvert->jupyter<2,>=1.0.0->deepcell) (0.5.1)\n",
      "Requirement already satisfied: zipp>=0.5 in /usr/local/lib/python3.8/dist-packages (from importlib-metadata>=4.4->markdown>=2.6.8->tensorboard<2.9,>=2.8->tensorflow~=2.8.0->deepcell) (3.15.0)\n",
      "Requirement already satisfied: parso<0.9.0,>=0.8.0 in /usr/local/lib/python3.8/dist-packages (from jedi>=0.10->ipython>=5.0.0->ipykernel->jupyter<2,>=1.0.0->deepcell) (0.8.3)\n",
      "Requirement already satisfied: importlib-resources>=1.4.0 in /usr/local/lib/python3.8/dist-packages (from jsonschema>=2.6->nbformat>=5.1->nbconvert->jupyter<2,>=1.0.0->deepcell) (5.12.0)\n",
      "Requirement already satisfied: pyrsistent!=0.17.0,!=0.17.1,!=0.17.2,>=0.14.0 in /usr/local/lib/python3.8/dist-packages (from jsonschema>=2.6->nbformat>=5.1->nbconvert->jupyter<2,>=1.0.0->deepcell) (0.19.3)\n",
      "Requirement already satisfied: attrs>=17.4.0 in /usr/local/lib/python3.8/dist-packages (from jsonschema>=2.6->nbformat>=5.1->nbconvert->jupyter<2,>=1.0.0->deepcell) (22.2.0)\n",
      "Requirement already satisfied: pyasn1<0.5.0,>=0.4.6 in /usr/local/lib/python3.8/dist-packages (from pyasn1-modules>=0.2.1->google-auth<3,>=1.6.3->tensorboard<2.9,>=2.8->tensorflow~=2.8.0->deepcell) (0.4.8)\n",
      "Requirement already satisfied: oauthlib>=3.0.0 in /usr/local/lib/python3.8/dist-packages (from requests-oauthlib>=0.7.0->google-auth-oauthlib<0.5,>=0.4.1->tensorboard<2.9,>=2.8->tensorflow~=2.8.0->deepcell) (3.2.2)\n",
      "Requirement already satisfied: cffi>=1.0.1 in /usr/local/lib/python3.8/dist-packages (from argon2-cffi-bindings->argon2-cffi->notebook->jupyter<2,>=1.0.0->deepcell) (1.15.1)\n",
      "Requirement already satisfied: pycparser in /usr/local/lib/python3.8/dist-packages (from cffi>=1.0.1->argon2-cffi-bindings->argon2-cffi->notebook->jupyter<2,>=1.0.0->deepcell) (2.21)\n",
      "Building wheels for collected packages: deepcell, deepcell-toolbox, deepcell-tracking\n",
      "  Building wheel for deepcell (pyproject.toml) ... \u001b[?25l\u001b[?25hdone\n",
      "  Created wheel for deepcell: filename=DeepCell-0.12.4-py3-none-any.whl size=239669 sha256=63105ffdbd0b0b7bc335147a53bbaad5472bd1238b020a0c7691f8f3cc55febb\n",
      "  Stored in directory: /root/.cache/pip/wheels/a8/47/1a/a797fcb3124a356dc8e103bff5c8b2c2eea39c17129017a028\n",
      "  Building wheel for deepcell-toolbox (pyproject.toml) ... \u001b[?25l\u001b[?25hdone\n",
      "  Created wheel for deepcell-toolbox: filename=DeepCell_Toolbox-0.12.0-cp38-cp38-linux_x86_64.whl size=146447 sha256=dcfec6b4d804423f40104462b66cbaa9ee1b0034e5225fb52bcbe2c0dbf99dad\n",
      "  Stored in directory: /root/.cache/pip/wheels/1f/e7/4f/4e745266b97d65b0dbdb12ad81189721dfd4843b76d67e27eb\n",
      "  Building wheel for deepcell-tracking (setup.py) ... \u001b[?25l\u001b[?25hdone\n",
      "  Created wheel for deepcell-tracking: filename=DeepCell_Tracking-0.6.4-py3-none-any.whl size=49893 sha256=b895239db53ed9b48a8df0c53df39892f410e5e2d9dd45664c7c37609988bb26\n",
      "  Stored in directory: /root/.cache/pip/wheels/e7/25/a5/8756a87dfcc8c4062f0ec25db96374494d65f03d0df8db9643\n",
      "Successfully built deepcell deepcell-toolbox deepcell-tracking\n",
      "Installing collected packages: tensorflow-estimator, keras, tensorflow-addons, qtpy, pydot, keras-preprocessing, jedi, deepcell-toolbox, tensorboard, qtconsole, deepcell-tracking, tensorflow, spektral, jupyter, deepcell\n",
      "  Attempting uninstall: tensorflow-estimator\n",
      "    Found existing installation: tensorflow-estimator 2.11.0\n",
      "    Uninstalling tensorflow-estimator-2.11.0:\n",
      "      Successfully uninstalled tensorflow-estimator-2.11.0\n",
      "  Attempting uninstall: keras\n",
      "    Found existing installation: keras 2.11.0\n",
      "    Uninstalling keras-2.11.0:\n",
      "      Successfully uninstalled keras-2.11.0\n",
      "  Attempting uninstall: pydot\n",
      "    Found existing installation: pydot 1.3.0\n",
      "    Uninstalling pydot-1.3.0:\n",
      "      Successfully uninstalled pydot-1.3.0\n",
      "  Attempting uninstall: tensorboard\n",
      "    Found existing installation: tensorboard 2.11.2\n",
      "    Uninstalling tensorboard-2.11.2:\n",
      "      Successfully uninstalled tensorboard-2.11.2\n",
      "  Attempting uninstall: tensorflow\n",
      "    Found existing installation: tensorflow 2.11.0\n",
      "    Uninstalling tensorflow-2.11.0:\n",
      "      Successfully uninstalled tensorflow-2.11.0\n",
      "Successfully installed deepcell-0.12.4 deepcell-toolbox-0.12.0 deepcell-tracking-0.6.4 jedi-0.18.2 jupyter-1.0.0 keras-2.8.0 keras-preprocessing-1.1.2 pydot-1.4.2 qtconsole-5.4.0 qtpy-2.3.0 spektral-1.0.6 tensorboard-2.8.0 tensorflow-2.8.4 tensorflow-addons-0.16.1 tensorflow-estimator-2.8.0\n"
     ]
    }
   ],
   "source": [
    "!pip install deepcell"
   ]
  },
  {
   "cell_type": "code",
   "execution_count": 2,
   "metadata": {
    "colab": {
     "base_uri": "https://localhost:8080/"
    },
    "executionInfo": {
     "elapsed": 6733,
     "status": "ok",
     "timestamp": 1677887322393,
     "user": {
      "displayName": "Bokai Zhu",
      "userId": "09132585489018838978"
     },
     "user_tz": 480
    },
    "id": "RfE_btImjdXt",
    "outputId": "52063b2e-e0dd-4fb2-c1b8-5b2b118adf4f"
   },
   "outputs": [
    {
     "name": "stdout",
     "output_type": "stream",
     "text": [
      "Looking in indexes: https://pypi.org/simple, https://us-python.pkg.dev/colab-wheels/public/simple/\n",
      "Collecting scikit-image==0.19.1\n",
      "  Downloading scikit_image-0.19.1-cp38-cp38-manylinux_2_17_x86_64.manylinux2014_x86_64.whl (13.8 MB)\n",
      "\u001b[2K     \u001b[90m━━━━━━━━━━━━━━━━━━━━━━━━━━━━━━━━━━━━━━━━\u001b[0m \u001b[32m13.8/13.8 MB\u001b[0m \u001b[31m81.3 MB/s\u001b[0m eta \u001b[36m0:00:00\u001b[0m\n",
      "\u001b[?25hRequirement already satisfied: scipy>=1.4.1 in /usr/local/lib/python3.8/dist-packages (from scikit-image==0.19.1) (1.10.1)\n",
      "Requirement already satisfied: pillow!=7.1.0,!=7.1.1,!=8.3.0,>=6.1.0 in /usr/local/lib/python3.8/dist-packages (from scikit-image==0.19.1) (8.4.0)\n",
      "Requirement already satisfied: tifffile>=2019.7.26 in /usr/local/lib/python3.8/dist-packages (from scikit-image==0.19.1) (2023.2.27)\n",
      "Requirement already satisfied: packaging>=20.0 in /usr/local/lib/python3.8/dist-packages (from scikit-image==0.19.1) (23.0)\n",
      "Requirement already satisfied: imageio>=2.4.1 in /usr/local/lib/python3.8/dist-packages (from scikit-image==0.19.1) (2.9.0)\n",
      "Requirement already satisfied: numpy>=1.17.0 in /usr/local/lib/python3.8/dist-packages (from scikit-image==0.19.1) (1.22.4)\n",
      "Requirement already satisfied: networkx>=2.2 in /usr/local/lib/python3.8/dist-packages (from scikit-image==0.19.1) (3.0)\n",
      "Requirement already satisfied: PyWavelets>=1.1.1 in /usr/local/lib/python3.8/dist-packages (from scikit-image==0.19.1) (1.4.1)\n",
      "Installing collected packages: scikit-image\n",
      "  Attempting uninstall: scikit-image\n",
      "    Found existing installation: scikit-image 0.19.3\n",
      "    Uninstalling scikit-image-0.19.3:\n",
      "      Successfully uninstalled scikit-image-0.19.3\n",
      "Successfully installed scikit-image-0.19.1\n"
     ]
    }
   ],
   "source": [
    "!pip install scikit-image==0.19.1"
   ]
  },
  {
   "cell_type": "code",
   "execution_count": 3,
   "metadata": {
    "executionInfo": {
     "elapsed": 5,
     "status": "ok",
     "timestamp": 1677887322394,
     "user": {
      "displayName": "Bokai Zhu",
      "userId": "09132585489018838978"
     },
     "user_tz": 480
    },
    "id": "1lIz6BvkjfJf"
   },
   "outputs": [],
   "source": [
    "import os\n",
    "os.environ[\"CUDA_VISIBLE_DEVICES\"]=\"2\" # specify visible gpu(s) 0-3"
   ]
  },
  {
   "cell_type": "code",
   "execution_count": 4,
   "metadata": {
    "executionInfo": {
     "elapsed": 6716,
     "status": "ok",
     "timestamp": 1677887331243,
     "user": {
      "displayName": "Bokai Zhu",
      "userId": "09132585489018838978"
     },
     "user_tz": 480
    },
    "id": "8zUPFhYlmEcX"
   },
   "outputs": [],
   "source": [
    "import tensorflow as tf\n",
    "\n",
    "try:\n",
    "    tf_gpus = tf.config.list_physical_devices('GPU')\n",
    "    for gpu in tf_gpus:\n",
    "        tf.config.experimental.set_memory_growth(gpu, True) # allow memory growth on visible gpu(s)\n",
    "except:\n",
    "    pass "
   ]
  },
  {
   "cell_type": "code",
   "execution_count": 5,
   "metadata": {
    "executionInfo": {
     "elapsed": 1455,
     "status": "ok",
     "timestamp": 1677887332693,
     "user": {
      "displayName": "Bokai Zhu",
      "userId": "09132585489018838978"
     },
     "user_tz": 480
    },
    "id": "00JI1Q1umGmM"
   },
   "outputs": [],
   "source": [
    "import matplotlib.pyplot as plt\n",
    "\n",
    "import numpy as np\n",
    "import pandas as pd\n",
    "import glob\n",
    "import skimage.io as io\n",
    "from skimage import img_as_ubyte\n",
    "from tqdm import tqdm\n",
    "\n",
    "from deepcell.applications import Mesmer\n",
    "from deepcell.utils.plot_utils import create_rgb_image, make_outline_overlay"
   ]
  },
  {
   "cell_type": "code",
   "execution_count": 12,
   "metadata": {
    "colab": {
     "base_uri": "https://localhost:8080/"
    },
    "executionInfo": {
     "elapsed": 6556,
     "status": "ok",
     "timestamp": 1677888281082,
     "user": {
      "displayName": "Bokai Zhu",
      "userId": "09132585489018838978"
     },
     "user_tz": 480
    },
    "id": "bTpKeiwDmYBy",
    "outputId": "4c095fdd-91d5-4b4c-c4c4-8de28426abc5"
   },
   "outputs": [
    {
     "name": "stdout",
     "output_type": "stream",
     "text": [
      "Mounted at /content/drive\n"
     ]
    }
   ],
   "source": [
    "from google.colab import drive\n",
    "drive.mount('/content/drive',force_remount=True)"
   ]
  },
  {
   "cell_type": "code",
   "execution_count": 24,
   "metadata": {
    "executionInfo": {
     "elapsed": 441,
     "status": "ok",
     "timestamp": 1677888645136,
     "user": {
      "displayName": "Bokai Zhu",
      "userId": "09132585489018838978"
     },
     "user_tz": 480
    },
    "id": "effJdaL0mLau"
   },
   "outputs": [],
   "source": [
    "# paths\n",
    "base_path = \"/content/drive/MyDrive/microMIBI/final_data/masked/2023-02-28T12-53-51-DSST1-Run1/\"\n",
    "output_path = \"/content/drive/MyDrive/microMIBI/final_data/masked/2023-02-28T12-53-51-DSST1-Run1/\" \n",
    "tile_paths = os.listdir(base_path)\n",
    "\n",
    "try:\n",
    "    tile_paths.remove(\".ipynb_checkpoints\")\n",
    "except:\n",
    "    pass"
   ]
  },
  {
   "cell_type": "code",
   "execution_count": 25,
   "metadata": {
    "executionInfo": {
     "elapsed": 3,
     "status": "ok",
     "timestamp": 1677888647845,
     "user": {
      "displayName": "Bokai Zhu",
      "userId": "09132585489018838978"
     },
     "user_tz": 480
    },
    "id": "NV3DLHFAm_0a"
   },
   "outputs": [],
   "source": [
    "# segmentation markers\n",
    "nuclear_markers = [\"dsDNA_host\"]\n",
    "membrane_markers = [\"CD45\",\n",
    "                    \"Tubulin\",\n",
    "                    \"Ecad\"]"
   ]
  },
  {
   "cell_type": "code",
   "execution_count": 26,
   "metadata": {
    "colab": {
     "base_uri": "https://localhost:8080/"
    },
    "executionInfo": {
     "elapsed": 3,
     "status": "ok",
     "timestamp": 1677888650174,
     "user": {
      "displayName": "Bokai Zhu",
      "userId": "09132585489018838978"
     },
     "user_tz": 480
    },
    "id": "2ZTN-bOUnCXu",
    "outputId": "a54c03d9-1f84-4109-a644-fd8d61a1327a"
   },
   "outputs": [
    {
     "data": {
      "text/plain": [
       "['fov-4-scan-1',\n",
       " 'fov-8-scan-1',\n",
       " 'fov-9-scan-1',\n",
       " 'fov-2-scan-1',\n",
       " 'fov-5-scan-1',\n",
       " 'fov-3-scan-1',\n",
       " 'fov-7-scan-1',\n",
       " 'fov-6-scan-1',\n",
       " 'fov-1-scan-1',\n",
       " 'fov-10-scan-1']"
      ]
     },
     "execution_count": 26,
     "metadata": {},
     "output_type": "execute_result"
    }
   ],
   "source": [
    "# need to elegantly remove .shit files here lol\n",
    "tile_paths.remove('.DS_Store')\n",
    "tile_paths"
   ]
  },
  {
   "cell_type": "code",
   "execution_count": 27,
   "metadata": {
    "colab": {
     "base_uri": "https://localhost:8080/"
    },
    "executionInfo": {
     "elapsed": 290116,
     "status": "ok",
     "timestamp": 1677888942443,
     "user": {
      "displayName": "Bokai Zhu",
      "userId": "09132585489018838978"
     },
     "user_tz": 480
    },
    "id": "CJz56kvinf77",
    "outputId": "3e93bc5f-742b-41f9-ecbe-88d5d67333e6"
   },
   "outputs": [
    {
     "name": "stdout",
     "output_type": "stream",
     "text": [
      "Working on  fov-4-scan-1\n"
     ]
    },
    {
     "name": "stderr",
     "output_type": "stream",
     "text": [
      "WARNING:tensorflow:No training configuration found in save file, so the model was *not* compiled. Compile it manually.\n"
     ]
    },
    {
     "name": "stdout",
     "output_type": "stream",
     "text": [
      "Working on  0.3\n",
      "Working on  fov-8-scan-1\n"
     ]
    },
    {
     "name": "stderr",
     "output_type": "stream",
     "text": [
      "WARNING:tensorflow:No training configuration found in save file, so the model was *not* compiled. Compile it manually.\n"
     ]
    },
    {
     "name": "stdout",
     "output_type": "stream",
     "text": [
      "Working on  0.3\n",
      "Working on  fov-9-scan-1\n"
     ]
    },
    {
     "name": "stderr",
     "output_type": "stream",
     "text": [
      "WARNING:tensorflow:No training configuration found in save file, so the model was *not* compiled. Compile it manually.\n"
     ]
    },
    {
     "name": "stdout",
     "output_type": "stream",
     "text": [
      "Working on  0.3\n",
      "Working on  fov-2-scan-1\n"
     ]
    },
    {
     "name": "stderr",
     "output_type": "stream",
     "text": [
      "WARNING:tensorflow:No training configuration found in save file, so the model was *not* compiled. Compile it manually.\n"
     ]
    },
    {
     "name": "stdout",
     "output_type": "stream",
     "text": [
      "Working on  0.3\n",
      "Working on  fov-5-scan-1\n"
     ]
    },
    {
     "name": "stderr",
     "output_type": "stream",
     "text": [
      "WARNING:tensorflow:No training configuration found in save file, so the model was *not* compiled. Compile it manually.\n"
     ]
    },
    {
     "name": "stdout",
     "output_type": "stream",
     "text": [
      "Working on  0.3\n",
      "Working on  fov-3-scan-1\n"
     ]
    },
    {
     "name": "stderr",
     "output_type": "stream",
     "text": [
      "WARNING:tensorflow:No training configuration found in save file, so the model was *not* compiled. Compile it manually.\n"
     ]
    },
    {
     "name": "stdout",
     "output_type": "stream",
     "text": [
      "Working on  0.3\n",
      "Working on  fov-7-scan-1\n"
     ]
    },
    {
     "name": "stderr",
     "output_type": "stream",
     "text": [
      "WARNING:tensorflow:No training configuration found in save file, so the model was *not* compiled. Compile it manually.\n"
     ]
    },
    {
     "name": "stdout",
     "output_type": "stream",
     "text": [
      "Working on  0.3\n",
      "Working on  fov-6-scan-1\n"
     ]
    },
    {
     "name": "stderr",
     "output_type": "stream",
     "text": [
      "WARNING:tensorflow:No training configuration found in save file, so the model was *not* compiled. Compile it manually.\n"
     ]
    },
    {
     "name": "stdout",
     "output_type": "stream",
     "text": [
      "Working on  0.3\n",
      "Working on  fov-1-scan-1\n"
     ]
    },
    {
     "name": "stderr",
     "output_type": "stream",
     "text": [
      "WARNING:tensorflow:No training configuration found in save file, so the model was *not* compiled. Compile it manually.\n"
     ]
    },
    {
     "name": "stdout",
     "output_type": "stream",
     "text": [
      "Working on  0.3\n",
      "Working on  fov-10-scan-1\n"
     ]
    },
    {
     "name": "stderr",
     "output_type": "stream",
     "text": [
      "WARNING:tensorflow:No training configuration found in save file, so the model was *not* compiled. Compile it manually.\n"
     ]
    },
    {
     "name": "stdout",
     "output_type": "stream",
     "text": [
      "Working on  0.3\n"
     ]
    }
   ],
   "source": [
    "for tile_path in tile_paths:\n",
    "    print(\"Working on \", tile_path)\n",
    "    # pull example tiff for image dimensions\n",
    "    ex_tile_path = os.listdir(os.path.join(base_path, tile_path))[0]\n",
    "    ex_tile = io.imread(os.path.join(base_path, tile_path, ex_tile_path))\n",
    "    img_height = ex_tile.shape[0]\n",
    "    img_width = ex_tile.shape[1]\n",
    "    \n",
    "    # glob together markers for this tile\n",
    "    all_marker_paths = glob.glob(base_path + tile_path + \"/*.tiff\")\n",
    "    \n",
    "    # initialize empty nuclear and membrane arrays\n",
    "    nuclear_array = membrane_array = np.zeros((img_height, img_width))\n",
    "    \n",
    "    # add seg markers to nuclear and membrane arrays\n",
    "    for marker_path in all_marker_paths:\n",
    "        marker = marker_path.rsplit(\"/\")[-1].rsplit(\".t\")[0]\n",
    "        if marker in nuclear_markers:\n",
    "            arr = io.imread(marker_path)\n",
    "            nuclear_array = np.add(nuclear_array, arr)\n",
    "        elif marker in membrane_markers:\n",
    "            arr = io.imread(marker_path)\n",
    "            membrane_array = np.add(membrane_array, arr)\n",
    "    \n",
    "    # stack nuclear and membrane together\n",
    "    stack = np.stack((nuclear_array, membrane_array), axis = -1)\n",
    "    stack = np.expand_dims(stack, 0) # expand to 4D\n",
    "    \n",
    "    # run MESMER\n",
    "    mesmer = Mesmer()\n",
    "    \n",
    "    # maxima_threshold controls what is considered a unique cell (lower values = more separate cells, higher values = fewer cells)\n",
    "    # interior_threshold determines what is considered background/not part of a cell (lower value = larger cells)\n",
    "    # default_kwargs_cell = {\n",
    "    #             'maxima_threshold': 0.075,\n",
    "    #             'maxima_smooth': 0,\n",
    "    #             'interior_threshold': 0.2,\n",
    "    #             'interior_smooth': 2,\n",
    "    #             'small_objects_threshold': 15,\n",
    "    #             'fill_holes_threshold': 15,\n",
    "    #             'radius': 2\n",
    "    #         }\n",
    "    \n",
    "    imageMpp = 0.3 #image_mpp orig 0.25 yh suggest increase\n",
    "    maximaThreshold = 0.065 #maxima_threshold, orig 0.075\n",
    "    #interiorThreshold = 0.2 #interior_threshold\n",
    "    \n",
    "    for interiorThreshold in [0.05]: # orig 0.01 yh suggest grow little\n",
    "        print(\"Working on \", str(imageMpp))\n",
    "        predictions = mesmer.predict(stack, image_mpp = imageMpp,\n",
    "                                  postprocess_kwargs_whole_cell={\"maxima_threshold\" : maximaThreshold,\n",
    "                                                                 \"interior_threshold\" : interiorThreshold})\n",
    "\n",
    "        rgb_image = create_rgb_image(stack, channel_colors = [\"green\", \"blue\"])\n",
    "        overlay = make_outline_overlay(rgb_data = rgb_image, predictions = predictions)\n",
    "\n",
    "        # save all MESMER outputs\n",
    "        output_dir = output_path+tile_path+\"/\"+str(imageMpp)+\"mpp_\"+str(maximaThreshold)+\"maxima_\"+str(interiorThreshold)+\"interior/\"\n",
    "        if os.path.exists(output_dir) == False:\n",
    "            os.makedirs(output_dir)\n",
    "\n",
    "        #io.imsave(output_dir + \"nuclear.tiff\", nuclear_array, check_contrast = False) # nuclear array \n",
    "        #io.imsave(output_dir + \"membrane.tiff\", membrane_array, check_contrast = False) # membrane array\n",
    "        io.imsave(output_dir + \"seg_outline.tiff\", overlay[0, ..., 0], check_contrast = False) # segmentation outline\n",
    "        io.imsave(output_dir + \"seg_overlay.tiff\", overlay[0, ...], check_contrast = False) # segmentation overlay (nuc + membrane + outline)\n",
    "        io.imsave(output_dir + \"MESMER_mask.tiff\", predictions[0, ..., 0], check_contrast = False) # MESMER mask"
   ]
  },
  {
   "cell_type": "markdown",
   "metadata": {
    "id": "grM5LYOlwMFC"
   },
   "source": [
    "Final suggested segmentation parameter: \n",
    "\n",
    "imageMpp = 0.3\n",
    "\n",
    "maximaThreshold = 0.065\n",
    "\n",
    "interiorThreshold = 0.05 "
   ]
  },
  {
   "cell_type": "code",
   "execution_count": 30,
   "metadata": {
    "colab": {
     "base_uri": "https://localhost:8080/",
     "height": 287
    },
    "executionInfo": {
     "elapsed": 1494,
     "status": "ok",
     "timestamp": 1677889035720,
     "user": {
      "displayName": "Bokai Zhu",
      "userId": "09132585489018838978"
     },
     "user_tz": 480
    },
    "id": "lIyy6urBps-k",
    "outputId": "3f27f23e-38ea-4fa9-f006-8830f1537bb0"
   },
   "outputs": [
    {
     "data": {
      "text/plain": [
       "<matplotlib.image.AxesImage at 0x7f69204fc760>"
      ]
     },
     "execution_count": 30,
     "metadata": {},
     "output_type": "execute_result"
    },
    {
     "data": {
      "image/png": "[encoded data removed]",
      "text/plain": [
       "<Figure size 432x288 with 1 Axes>"
      ]
     },
     "metadata": {
      "needs_background": "light"
     },
     "output_type": "display_data"
    }
   ],
   "source": [
    "import matplotlib.pyplot as plt\n",
    "plt.imshow(stack[0,:,:,0])"
   ]
  },
  {
   "cell_type": "code",
   "execution_count": 31,
   "metadata": {
    "colab": {
     "base_uri": "https://localhost:8080/",
     "height": 287
    },
    "executionInfo": {
     "elapsed": 1140,
     "status": "ok",
     "timestamp": 1677889037170,
     "user": {
      "displayName": "Bokai Zhu",
      "userId": "09132585489018838978"
     },
     "user_tz": 480
    },
    "id": "oO37BcatpvMN",
    "outputId": "63c20b8b-1123-4c7f-a9f6-caca945f9820"
   },
   "outputs": [
    {
     "data": {
      "text/plain": [
       "<matplotlib.image.AxesImage at 0x7f691a7ae820>"
      ]
     },
     "execution_count": 31,
     "metadata": {},
     "output_type": "execute_result"
    },
    {
     "data": {
      "image/png": "[encoded data removed]",
      "text/plain": [
       "<Figure size 432x288 with 1 Axes>"
      ]
     },
     "metadata": {
      "needs_background": "light"
     },
     "output_type": "display_data"
    }
   ],
   "source": [
    "plt.imshow(predictions[0,:,:,0])"
   ]
  },
  {
   "cell_type": "code",
   "execution_count": null,
   "metadata": {
    "id": "d3WZu_4vr7ey"
   },
   "outputs": [],
   "source": []
  }
 ],
 "metadata": {
  "accelerator": "GPU",
  "colab": {
   "authorship_tag": "ABX9TyMcPea9Ku7e4036WnHPNS35",
   "provenance": []
  },
  "gpuClass": "standard",
  "kernelspec": {
   "display_name": "Python 3 (ipykernel)",
   "language": "python",
   "name": "python3"
  },
  "language_info": {
   "codemirror_mode": {
    "name": "ipython",
    "version": 3
   },
   "file_extension": ".py",
   "mimetype": "text/x-python",
   "name": "python",
   "nbconvert_exporter": "python",
   "pygments_lexer": "ipython3",
   "version": "3.8.18"
  }
 },
 "nbformat": 4,
 "nbformat_minor": 4
}
