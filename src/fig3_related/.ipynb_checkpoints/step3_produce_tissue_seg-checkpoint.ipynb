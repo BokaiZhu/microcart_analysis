{
 "cells": [
  {
   "cell_type": "code",
   "execution_count": 1,
   "id": "671c7ed3",
   "metadata": {},
   "outputs": [],
   "source": [
    "import skimage\n",
    "import matplotlib.pyplot as plt\n",
    "import numpy as np\n",
    "import os\n",
    "import tifffile"
   ]
  },
  {
   "cell_type": "markdown",
   "id": "17fab2a1-13db-4e80-85a3-a43e1b2ff314",
   "metadata": {},
   "source": [
    "This script generates images for manual masking of host/fecal regions"
   ]
  },
  {
   "cell_type": "code",
   "execution_count": 2,
   "id": "7d5b6d9f",
   "metadata": {},
   "outputs": [],
   "source": [
    "extracted_imgs_dir = '../../final_data/compensated/micro_fine1ms/' # all extracted data stored here\n",
    "\n",
    "#### runs to create tissue seg\n",
    "#run_names = ['2022-12-11T15-07-08-C3-3pt-fine-2ms-1024-400',\n",
    "#             '2022-12-10T18-30-32-T3D5-5pt-Fine-2ms-5ul-Test'] # specific run name\n",
    "\n",
    "#run_names = ['2023-02-28T12-53-51-DSST1-Run1',\n",
    "#             '2023-03-01T24-02-56-DssT1-Run2'] # specific run name\n",
    "\n",
    "#run_names = ['2023-03-04T16-22-15-DSSC1-Run1'] # specific run name\n",
    "\n",
    "#run_names = ['2023-03-04T16-22-15-DSSC1-Run1', '2023-03-04T19-46-22-DSSC1-Run2',\n",
    "#            '2023-03-04T23-36-59-DSSC1-Run3', '2023-03-05T15-51-42-DSST2-Run1',\n",
    "#            '2023-03-05T18-22-42-DSST2-Run2', '2023-03-05T21-42-35-DSST2-Run3',\n",
    "#            '2023-03-05T23-58-06-DSST2-Run4', '2023-03-06T11-23-28-DSST2-Run5',\n",
    "#            '2023-03-06T13-40-46-DSST2-Run6', '2023-03-06T16-15-43-DSSC2-Run1'] # specific run name\n",
    "\n",
    "#run_names = ['2023-03-07T18-32-49-DSSC2-Run5', '2023-03-07T16-08-39-DSSC2-Run4',\n",
    "#            '2023-03-07T13-54-48-DSSC2-Run3', '2023-03-07T11-17-56-DSSC2-Run2',\n",
    "#            '2023-03-09T15-53-36-DSSC3-Run4', '2023-03-09T13-34-52-DSSC3-Run3',\n",
    "#            '2023-03-09T10-32-36-DSSC3-Run2', '2023-03-08T23-51-06-DSSC3-Run1',\n",
    "#            '2023-03-08T21-26-09-DSST3-Run6', '2023-03-08T18-48-43-DSST3-Run5',\n",
    "#            '2023-03-08T16-15-19-DSST3-Run4', '2023-03-08T14-03-50-DSST3-Run3',\n",
    "#            '2023-03-08T11-39-28-DSST3-Run2', '2023-03-07T22-15-40-DSST3-Run1'] # specific run name\n",
    "\n",
    "run_names = ['2023-03-10T12-31-44-DSST4-Run1', '2023-03-10T14-47-38-DSST4-Run2', '2023-03-10T17-34-14-DSST4-Run3',\n",
    "            '2023-03-18T14-36-10-DSST4-Run4', '2023-03-18T17-28-03-DSST4-Run5', '2023-03-18T23-11-36-DSST4-Run6',\n",
    "            '2023-03-19T12-45-44-DSSC4-Run1', '2023-03-19T15-20-40-DSSC4-Run2', '2023-03-19T17-38-15-DSSC4-Run3',\n",
    "            '2023-03-19T20-32-23-DSSC4-Run4', '2023-03-20T12-07-46-DSST1-Run1', '2023-03-20T14-32-22-DSST1-Run2',\n",
    "            '2023-03-20T19-13-53-DSST1-Run3', '2023-03-20T21-44-51-DSST1-Run4', '2023-03-21T24-29-43-DSST1-Run5',\n",
    "            '2023-03-21T10-32-42-DSST-Run6', '2023-03-21T12-44-51-DSST1-Run7', '2023-03-28T11-45-15-DSSC1-Run4'\n",
    "            ]\n",
    "\n",
    "####\n",
    "\n",
    "runs = run_names\n",
    "\n",
    "channels_cb = [\"Tubulin.tiff\", \"dsDNA.tiff\", \"Ecad.tiff\"]\n",
    "channels_sg = [\"MUC2.tiff\", \"Alx488.tiff\"]"
   ]
  },
  {
   "cell_type": "code",
   "execution_count": 3,
   "id": "807ab5ba",
   "metadata": {},
   "outputs": [],
   "source": [
    "for run in runs:\n",
    "    path_compensated = os.path.join(extracted_imgs_dir, run)\n",
    "    #print(path_compensated)\n",
    "    fovs = os.listdir(path_compensated)\n",
    "    \n",
    "    for fov in fovs:\n",
    "        if fov == '.DS_Store':\n",
    "            continue\n",
    "        else:\n",
    "            \n",
    "            fov_dir = os.path.join(extracted_imgs_dir, run, fov, \"rescaled\")\n",
    "            container = np.zeros((1024, 1024))\n",
    "            \n",
    "            ####### combine channels into one z\n",
    "            for channel in channels_cb:\n",
    "                img = skimage.io.imread(os.path.join(fov_dir,channel))\n",
    "                if channel != \"dsDNA.tiff\":\n",
    "                    img = img * 7 # make non-dsDAN stronger for better visual\n",
    "                container = container + img\n",
    "            \n",
    "            ####### add other single channles\n",
    "            templist = []\n",
    "            templist.append(container)\n",
    "            for channel in channels_sg:\n",
    "                \n",
    "                img = skimage.io.imread(os.path.join(fov_dir,channel))\n",
    "                templist.append(img)\n",
    "            \n",
    "            \n",
    "            skimage.io.imsave(os.path.join(fov_dir,\"tissue_add.tiff\"), np.stack(templist, axis = -1))    \n",
    "            #tifffile.imsave(os.path.join(fov_dir,\"tissue_add.tiff\"), container)\n",
    "            "
   ]
  }
 ],
 "metadata": {
  "kernelspec": {
   "display_name": "Python 3 (ipykernel)",
   "language": "python",
   "name": "python3"
  },
  "language_info": {
   "codemirror_mode": {
    "name": "ipython",
    "version": 3
   },
   "file_extension": ".py",
   "mimetype": "text/x-python",
   "name": "python",
   "nbconvert_exporter": "python",
   "pygments_lexer": "ipython3",
   "version": "3.8.18"
  }
 },
 "nbformat": 4,
 "nbformat_minor": 5
}
